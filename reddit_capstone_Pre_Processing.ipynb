{
 "cells": [
  {
   "cell_type": "markdown",
   "metadata": {},
   "source": [
    "The database downloaded is in SQLite. I am going to make a connection with sqlite database and read in the file. Then ill make a dataframe and process data to see nulls and duplicates. Then I will drop unwanted columns and add another column with the career categories names in the new database. \n",
    "\n",
    "The career categories I have identified are:\n",
    "1. Techlonogy\n",
    "2. Sports\n",
    "3. Finance\n",
    "4. Fittness\n",
    "5. Music\n",
    "6. Culnery\n",
    "7. Fashion"
   ]
  },
  {
   "cell_type": "code",
   "execution_count": 3,
   "metadata": {},
   "outputs": [],
   "source": [
    "import sqlite3 # importing library that will open and connect SQLite databasel\n",
    "import pandas as pd\n",
    "import numpy as np\n",
    "import matplotlib.pyplot as plt"
   ]
  },
  {
   "cell_type": "code",
   "execution_count": 15,
   "metadata": {},
   "outputs": [],
   "source": [
    "# building a SQL connection\n",
    "sql_conn = sqlite3.connect('C:/Users/madih/Downloads/database.sqlite/database.sqlite') \n",
    "# use frontslash instead of backslash to read the file correctly\n",
    "\n",
    "# reading the sqlite database as a pandas dataframe in batches\n",
    "reddit = pd.read_sql('SELECT * FROM may2015 LIMIT 160000;', sql_conn)"
   ]
  },
  {
   "cell_type": "code",
   "execution_count": null,
   "metadata": {},
   "outputs": [],
   "source": [
    "# creating a connection\n",
    "for i in range(1,10):\n",
    "    sql_conn = sqlite3.connect('C:/Users/madih/Downloads/database.sqlite/database.sqlite') \n",
    "    # use frontslash instead of backslash to read the file correctly\n",
    "\n",
    "    # reading the sqlite database as a pandas dataframe in batches\n",
    "    reddit_1 = pd.read_sql('SELECT * FROM may2015 LIMIT 160000;', sql_conn)\n",
    "    reddit_2 = pd.read_sql('SELECT * FROM may2015 LIMIT 160000, 160000;', sql_conn)\n",
    "    reddit_3 = pd.read_sql('SELECT * FROM may2015 LIMIT 320000, 160000;', sql_conn)\n",
    "    reddit_4 = pd.read_sql('SELECT * FROM may2015 LIMIT 480000, 160000;', sql_conn)\n",
    "    reddit_5 = pd.read_sql('SELECT * FROM may2015 LIMIT 540000, 160000;', sql_conn)\n",
    "    reddit_6 = pd.read_sql('SELECT * FROM may2015 LIMIT 700000, 160000;', sql_conn)\n",
    "    reddit_7 = pd.read_sql('SELECT * FROM may2015 LIMIT 860000, 160000;', sql_conn)\n",
    "    reddit_8 = pd.read_sql('SELECT * FROM may2015 LIMIT 1120000, 160000;', sql_conn)\n",
    "    reddit_9 = pd.read_sql('SELECT * FROM may2015 LIMIT 1280000, 160000;', sql_conn)\n",
    "    reddit_10 = pd.read_sql('SELECT * FROM may2015 LIMIT 1440000, 160000;', sql_conn)"
   ]
  },
  {
   "cell_type": "code",
   "execution_count": null,
   "metadata": {},
   "outputs": [],
   "source": [
    "# pd.set_option('display.max_columns', None)\n",
    "# pd.set_option('display.max_rows', None)"
   ]
  },
  {
   "cell_type": "code",
   "execution_count": 3,
   "metadata": {},
   "outputs": [
    {
     "data": {
      "text/html": [
       "<div>\n",
       "<style scoped>\n",
       "    .dataframe tbody tr th:only-of-type {\n",
       "        vertical-align: middle;\n",
       "    }\n",
       "\n",
       "    .dataframe tbody tr th {\n",
       "        vertical-align: top;\n",
       "    }\n",
       "\n",
       "    .dataframe thead th {\n",
       "        text-align: right;\n",
       "    }\n",
       "</style>\n",
       "<table border=\"1\" class=\"dataframe\">\n",
       "  <thead>\n",
       "    <tr style=\"text-align: right;\">\n",
       "      <th></th>\n",
       "      <th>created_utc</th>\n",
       "      <th>ups</th>\n",
       "      <th>subreddit_id</th>\n",
       "      <th>link_id</th>\n",
       "      <th>name</th>\n",
       "      <th>score_hidden</th>\n",
       "      <th>author_flair_css_class</th>\n",
       "      <th>author_flair_text</th>\n",
       "      <th>subreddit</th>\n",
       "      <th>id</th>\n",
       "      <th>...</th>\n",
       "      <th>downs</th>\n",
       "      <th>archived</th>\n",
       "      <th>author</th>\n",
       "      <th>score</th>\n",
       "      <th>retrieved_on</th>\n",
       "      <th>body</th>\n",
       "      <th>distinguished</th>\n",
       "      <th>edited</th>\n",
       "      <th>controversiality</th>\n",
       "      <th>parent_id</th>\n",
       "    </tr>\n",
       "  </thead>\n",
       "  <tbody>\n",
       "    <tr>\n",
       "      <th>0</th>\n",
       "      <td>1430438400</td>\n",
       "      <td>4</td>\n",
       "      <td>t5_378oi</td>\n",
       "      <td>t3_34di91</td>\n",
       "      <td>t1_cqug90g</td>\n",
       "      <td>0</td>\n",
       "      <td>None</td>\n",
       "      <td>None</td>\n",
       "      <td>soccer_jp</td>\n",
       "      <td>cqug90g</td>\n",
       "      <td>...</td>\n",
       "      <td>0</td>\n",
       "      <td>0</td>\n",
       "      <td>rx109</td>\n",
       "      <td>4</td>\n",
       "      <td>1432703079</td>\n",
       "      <td>くそ\\n読みたいが買ったら負けな気がする\\n図書館に出ねーかな</td>\n",
       "      <td>None</td>\n",
       "      <td>0</td>\n",
       "      <td>0</td>\n",
       "      <td>t3_34di91</td>\n",
       "    </tr>\n",
       "    <tr>\n",
       "      <th>1</th>\n",
       "      <td>1430438400</td>\n",
       "      <td>4</td>\n",
       "      <td>t5_2qo4s</td>\n",
       "      <td>t3_34g8mx</td>\n",
       "      <td>t1_cqug90h</td>\n",
       "      <td>0</td>\n",
       "      <td>Heat</td>\n",
       "      <td>Heat</td>\n",
       "      <td>nba</td>\n",
       "      <td>cqug90h</td>\n",
       "      <td>...</td>\n",
       "      <td>0</td>\n",
       "      <td>0</td>\n",
       "      <td>WyaOfWade</td>\n",
       "      <td>4</td>\n",
       "      <td>1432703079</td>\n",
       "      <td>gg this one's over. off to watch the NFL draft...</td>\n",
       "      <td>None</td>\n",
       "      <td>0</td>\n",
       "      <td>0</td>\n",
       "      <td>t3_34g8mx</td>\n",
       "    </tr>\n",
       "    <tr>\n",
       "      <th>2</th>\n",
       "      <td>1430438400</td>\n",
       "      <td>0</td>\n",
       "      <td>t5_2cneq</td>\n",
       "      <td>t3_34f7mc</td>\n",
       "      <td>t1_cqug90i</td>\n",
       "      <td>0</td>\n",
       "      <td>None</td>\n",
       "      <td>None</td>\n",
       "      <td>politics</td>\n",
       "      <td>cqug90i</td>\n",
       "      <td>...</td>\n",
       "      <td>0</td>\n",
       "      <td>0</td>\n",
       "      <td>Wicked_Truth</td>\n",
       "      <td>0</td>\n",
       "      <td>1432703079</td>\n",
       "      <td>Are you really implying we return to those tim...</td>\n",
       "      <td>None</td>\n",
       "      <td>0</td>\n",
       "      <td>0</td>\n",
       "      <td>t1_cqufim0</td>\n",
       "    </tr>\n",
       "    <tr>\n",
       "      <th>3</th>\n",
       "      <td>1430438400</td>\n",
       "      <td>3</td>\n",
       "      <td>t5_2qh1i</td>\n",
       "      <td>t3_34f9rh</td>\n",
       "      <td>t1_cqug90j</td>\n",
       "      <td>0</td>\n",
       "      <td>None</td>\n",
       "      <td>None</td>\n",
       "      <td>AskReddit</td>\n",
       "      <td>cqug90j</td>\n",
       "      <td>...</td>\n",
       "      <td>0</td>\n",
       "      <td>0</td>\n",
       "      <td>jesse9o3</td>\n",
       "      <td>3</td>\n",
       "      <td>1432703079</td>\n",
       "      <td>No one has a European accent either  because i...</td>\n",
       "      <td>None</td>\n",
       "      <td>0</td>\n",
       "      <td>0</td>\n",
       "      <td>t1_cqug2sr</td>\n",
       "    </tr>\n",
       "    <tr>\n",
       "      <th>4</th>\n",
       "      <td>1430438400</td>\n",
       "      <td>3</td>\n",
       "      <td>t5_2qh1i</td>\n",
       "      <td>t3_34fvry</td>\n",
       "      <td>t1_cqug90k</td>\n",
       "      <td>0</td>\n",
       "      <td>None</td>\n",
       "      <td>None</td>\n",
       "      <td>AskReddit</td>\n",
       "      <td>cqug90k</td>\n",
       "      <td>...</td>\n",
       "      <td>0</td>\n",
       "      <td>0</td>\n",
       "      <td>beltfedshooter</td>\n",
       "      <td>3</td>\n",
       "      <td>1432703079</td>\n",
       "      <td>That the kid \"..reminds me of Kevin.\"   so sad...</td>\n",
       "      <td>None</td>\n",
       "      <td>0</td>\n",
       "      <td>0</td>\n",
       "      <td>t3_34fvry</td>\n",
       "    </tr>\n",
       "  </tbody>\n",
       "</table>\n",
       "<p>5 rows × 22 columns</p>\n",
       "</div>"
      ],
      "text/plain": [
       "   created_utc  ups subreddit_id    link_id        name  score_hidden  \\\n",
       "0   1430438400    4     t5_378oi  t3_34di91  t1_cqug90g             0   \n",
       "1   1430438400    4     t5_2qo4s  t3_34g8mx  t1_cqug90h             0   \n",
       "2   1430438400    0     t5_2cneq  t3_34f7mc  t1_cqug90i             0   \n",
       "3   1430438400    3     t5_2qh1i  t3_34f9rh  t1_cqug90j             0   \n",
       "4   1430438400    3     t5_2qh1i  t3_34fvry  t1_cqug90k             0   \n",
       "\n",
       "  author_flair_css_class author_flair_text  subreddit       id  ... downs  \\\n",
       "0                   None              None  soccer_jp  cqug90g  ...     0   \n",
       "1                   Heat              Heat        nba  cqug90h  ...     0   \n",
       "2                   None              None   politics  cqug90i  ...     0   \n",
       "3                   None              None  AskReddit  cqug90j  ...     0   \n",
       "4                   None              None  AskReddit  cqug90k  ...     0   \n",
       "\n",
       "   archived          author  score retrieved_on  \\\n",
       "0         0           rx109      4   1432703079   \n",
       "1         0       WyaOfWade      4   1432703079   \n",
       "2         0    Wicked_Truth      0   1432703079   \n",
       "3         0        jesse9o3      3   1432703079   \n",
       "4         0  beltfedshooter      3   1432703079   \n",
       "\n",
       "                                                body  distinguished edited  \\\n",
       "0                    くそ\\n読みたいが買ったら負けな気がする\\n図書館に出ねーかな           None      0   \n",
       "1  gg this one's over. off to watch the NFL draft...           None      0   \n",
       "2  Are you really implying we return to those tim...           None      0   \n",
       "3  No one has a European accent either  because i...           None      0   \n",
       "4  That the kid \"..reminds me of Kevin.\"   so sad...           None      0   \n",
       "\n",
       "  controversiality   parent_id  \n",
       "0                0   t3_34di91  \n",
       "1                0   t3_34g8mx  \n",
       "2                0  t1_cqufim0  \n",
       "3                0  t1_cqug2sr  \n",
       "4                0   t3_34fvry  \n",
       "\n",
       "[5 rows x 22 columns]"
      ]
     },
     "execution_count": 3,
     "metadata": {},
     "output_type": "execute_result"
    }
   ],
   "source": [
    "reddit.head()"
   ]
  },
  {
   "cell_type": "code",
   "execution_count": 4,
   "metadata": {},
   "outputs": [
    {
     "name": "stdout",
     "output_type": "stream",
     "text": [
      "Number of duplicated rows is: 0 \n",
      "\n",
      "created_utc               False\n",
      "ups                       False\n",
      "subreddit_id              False\n",
      "link_id                   False\n",
      "name                      False\n",
      "score_hidden              False\n",
      "author_flair_css_class    False\n",
      "author_flair_text         False\n",
      "subreddit                 False\n",
      "id                        False\n",
      "removal_reason            False\n",
      "gilded                    False\n",
      "downs                     False\n",
      "archived                   True\n",
      "author                    False\n",
      "score                      True\n",
      "retrieved_on              False\n",
      "body                      False\n",
      "distinguished             False\n",
      "edited                    False\n",
      "controversiality          False\n",
      "parent_id                 False\n",
      "dtype: bool\n"
     ]
    }
   ],
   "source": [
    "print(f'Number of duplicated rows is: {reddit.duplicated().sum()}', '\\n')\n",
    "print(reddit.T.duplicated())"
   ]
  },
  {
   "cell_type": "markdown",
   "metadata": {},
   "source": [
    "##### Data cleaning to be run ahead\n",
    "\n",
    "##### Columsn to be dropped\n",
    "1. score_hidden \n",
    "2. author_flair_css_class\n",
    "3. author_flair_text \n",
    "4. archived \n",
    "5. score \n",
    "\n",
    "These columns will not add value in the NLP, therefore they can be dropped. The archived and score are duplicate columns as seen above.  "
   ]
  },
  {
   "cell_type": "code",
   "execution_count": 5,
   "metadata": {},
   "outputs": [],
   "source": [
    "# dropping columns identifeid above\n",
    "reddit.drop(columns=['score_hidden', 'author_flair_css_class', 'author_flair_text', 'archived', 'score'], axis=1, inplace=True)"
   ]
  },
  {
   "cell_type": "code",
   "execution_count": 6,
   "metadata": {},
   "outputs": [
    {
     "name": "stdout",
     "output_type": "stream",
     "text": [
      "The number of rows with Deleted comments are: 9261\n"
     ]
    }
   ],
   "source": [
    "print(f\"The number of rows with Deleted comments are: {len((reddit[reddit['body'] == '[deleted]']))}\")"
   ]
  },
  {
   "cell_type": "code",
   "execution_count": 7,
   "metadata": {},
   "outputs": [],
   "source": [
    "# dropping all rows with [deleted] comments\n",
    "reddit.drop(reddit[reddit['body'] == '[deleted]'].index, axis=0, inplace=True)"
   ]
  },
  {
   "cell_type": "code",
   "execution_count": 8,
   "metadata": {},
   "outputs": [
    {
     "data": {
      "text/html": [
       "<div>\n",
       "<style scoped>\n",
       "    .dataframe tbody tr th:only-of-type {\n",
       "        vertical-align: middle;\n",
       "    }\n",
       "\n",
       "    .dataframe tbody tr th {\n",
       "        vertical-align: top;\n",
       "    }\n",
       "\n",
       "    .dataframe thead th {\n",
       "        text-align: right;\n",
       "    }\n",
       "</style>\n",
       "<table border=\"1\" class=\"dataframe\">\n",
       "  <thead>\n",
       "    <tr style=\"text-align: right;\">\n",
       "      <th></th>\n",
       "      <th>created_utc</th>\n",
       "      <th>ups</th>\n",
       "      <th>subreddit_id</th>\n",
       "      <th>link_id</th>\n",
       "      <th>name</th>\n",
       "      <th>subreddit</th>\n",
       "      <th>id</th>\n",
       "      <th>removal_reason</th>\n",
       "      <th>gilded</th>\n",
       "      <th>downs</th>\n",
       "      <th>author</th>\n",
       "      <th>retrieved_on</th>\n",
       "      <th>body</th>\n",
       "      <th>distinguished</th>\n",
       "      <th>edited</th>\n",
       "      <th>controversiality</th>\n",
       "      <th>parent_id</th>\n",
       "    </tr>\n",
       "  </thead>\n",
       "  <tbody>\n",
       "  </tbody>\n",
       "</table>\n",
       "</div>"
      ],
      "text/plain": [
       "Empty DataFrame\n",
       "Columns: [created_utc, ups, subreddit_id, link_id, name, subreddit, id, removal_reason, gilded, downs, author, retrieved_on, body, distinguished, edited, controversiality, parent_id]\n",
       "Index: []"
      ]
     },
     "execution_count": 8,
     "metadata": {},
     "output_type": "execute_result"
    }
   ],
   "source": [
    "# checking if any deleted comments still exist\n",
    "reddit[reddit['body'] == '[deleted]']"
   ]
  },
  {
   "cell_type": "code",
   "execution_count": 9,
   "metadata": {},
   "outputs": [
    {
     "data": {
      "text/plain": [
       "created_utc              0\n",
       "ups                      0\n",
       "subreddit_id             0\n",
       "link_id                  0\n",
       "name                     0\n",
       "subreddit                0\n",
       "id                       0\n",
       "removal_reason      150739\n",
       "gilded                   0\n",
       "downs                    0\n",
       "author                   0\n",
       "retrieved_on             0\n",
       "body                     0\n",
       "distinguished       149777\n",
       "edited                   0\n",
       "controversiality         0\n",
       "parent_id                0\n",
       "dtype: int64"
      ]
     },
     "execution_count": 9,
     "metadata": {},
     "output_type": "execute_result"
    }
   ],
   "source": [
    "reddit.isnull().sum()"
   ]
  },
  {
   "cell_type": "code",
   "execution_count": 10,
   "metadata": {},
   "outputs": [],
   "source": [
    "# The number of nulls in the removal_reason and distinguished are too many for teh columns to be of nay any value, removing these as well.\n",
    "reddit.drop(columns=['removal_reason', 'distinguished'], inplace=True, axis=1)"
   ]
  },
  {
   "cell_type": "markdown",
   "metadata": {},
   "source": [
    "Now we have identified the columns and rows to be removed from the data set. Therefore now ill load in more data and run the same codes to shrink the size of the data and use it."
   ]
  },
  {
   "cell_type": "code",
   "execution_count": 13,
   "metadata": {},
   "outputs": [],
   "source": [
    "# creating a connection\n",
    "sql_conn = sqlite3.connect('C:/Users/madih/Downloads/database.sqlite/database.sqlite') \n",
    "# use frontslash instead of backslash to read the file correctly\n",
    "\n",
    "# reading the sqlite database as a pandas dataframe in batches\n",
    "reddit = pd.read_sql('SELECT * FROM may2015 LIMIT 160000, 4000000;', sql_conn)"
   ]
  },
  {
   "cell_type": "code",
   "execution_count": 26,
   "metadata": {},
   "outputs": [
    {
     "data": {
      "text/plain": [
       "(3283736, 15)"
      ]
     },
     "execution_count": 26,
     "metadata": {},
     "output_type": "execute_result"
    }
   ],
   "source": [
    "reddit.shape"
   ]
  },
  {
   "cell_type": "code",
   "execution_count": 27,
   "metadata": {},
   "outputs": [
    {
     "data": {
      "text/plain": [
       "(4000000, 22)"
      ]
     },
     "execution_count": 27,
     "metadata": {},
     "output_type": "execute_result"
    }
   ],
   "source": [
    "# reading the sqlite database as a pandas dataframe in batches\n",
    "reddit_1 = pd.read_sql('SELECT * FROM may2015 LIMIT 4160000, 4000000;', sql_conn)\n",
    "\n",
    "reddit_1.shape"
   ]
  },
  {
   "cell_type": "code",
   "execution_count": 28,
   "metadata": {},
   "outputs": [],
   "source": [
    "reddit = pd.concat([reddit, reddit_1])"
   ]
  },
  {
   "cell_type": "code",
   "execution_count": 29,
   "metadata": {},
   "outputs": [],
   "source": [
    "# dropping columns identifeid above\n",
    "reddit.drop(columns=['score_hidden', 'author_flair_css_class', 'removal_reason', 'distinguished', 'author_flair_text', 'archived', 'score'], axis=1, inplace=True)\n",
    "\n",
    "# dropping all rows with [deleted] comments\n",
    "reddit.drop(reddit[reddit['body'] == '[deleted]'].index, axis=0, inplace=True)"
   ]
  },
  {
   "cell_type": "code",
   "execution_count": 30,
   "metadata": {},
   "outputs": [
    {
     "data": {
      "text/plain": [
       "(6795270, 15)"
      ]
     },
     "execution_count": 30,
     "metadata": {},
     "output_type": "execute_result"
    }
   ],
   "source": [
    "reddit.shape"
   ]
  },
  {
   "cell_type": "markdown",
   "metadata": {},
   "source": [
    "## Coming to subreddits now"
   ]
  },
  {
   "cell_type": "code",
   "execution_count": 31,
   "metadata": {},
   "outputs": [
    {
     "name": "stdout",
     "output_type": "stream",
     "text": [
      "Unique Subreddits in data are: 24303\n"
     ]
    }
   ],
   "source": [
    "subreddit_list = reddit['subreddit'].unique()\n",
    "print(f'Unique Subreddits in data are: {len(subreddit_list)}')"
   ]
  },
  {
   "cell_type": "code",
   "execution_count": 32,
   "metadata": {},
   "outputs": [
    {
     "data": {
      "text/html": [
       "<div>\n",
       "<style scoped>\n",
       "    .dataframe tbody tr th:only-of-type {\n",
       "        vertical-align: middle;\n",
       "    }\n",
       "\n",
       "    .dataframe tbody tr th {\n",
       "        vertical-align: top;\n",
       "    }\n",
       "\n",
       "    .dataframe thead th {\n",
       "        text-align: right;\n",
       "    }\n",
       "</style>\n",
       "<table border=\"1\" class=\"dataframe\">\n",
       "  <thead>\n",
       "    <tr style=\"text-align: right;\">\n",
       "      <th></th>\n",
       "      <th>count</th>\n",
       "      <th>y_career_category</th>\n",
       "    </tr>\n",
       "  </thead>\n",
       "  <tbody>\n",
       "    <tr>\n",
       "      <th>AskReddit</th>\n",
       "      <td>259854</td>\n",
       "      <td>xxx</td>\n",
       "    </tr>\n",
       "    <tr>\n",
       "      <th>leagueoflegends</th>\n",
       "      <td>145383</td>\n",
       "      <td>xxx</td>\n",
       "    </tr>\n",
       "  </tbody>\n",
       "</table>\n",
       "</div>"
      ],
      "text/plain": [
       "                  count y_career_category\n",
       "AskReddit        259854               xxx\n",
       "leagueoflegends  145383               xxx"
      ]
     },
     "execution_count": 32,
     "metadata": {},
     "output_type": "execute_result"
    }
   ],
   "source": [
    "# Creating a new pandas dataframe 'subreddit'\n",
    "# using value_counts() over subreddits in the reddits df to count distinct values in single column\n",
    "# https://stackoverflow.com/questions/38309729/count-unique-values-with-pandas-per-groups/38309823\n",
    "# using head to limit to top 200 subreddits\n",
    "\n",
    "subreddit = pd.DataFrame(reddit.subreddit.value_counts())\n",
    "\n",
    "# renaming the subreddit column to count to show the frequency of posting for the subreddit and hence the popularity\n",
    "subreddit.rename(columns={'subreddit': 'count'}, inplace=True)\n",
    "\n",
    "# code to show total number of unique values in the calumns: total number of subreddit in the data loaded for now\n",
    "reddit.subreddit.nunique()\n",
    "\n",
    "# adding a new column with \"xxx\" as proxy \n",
    "subreddit['y_career_category'] = 'xxx'\n",
    "subreddit.head(2)"
   ]
  },
  {
   "cell_type": "code",
   "execution_count": 33,
   "metadata": {},
   "outputs": [
    {
     "data": {
      "text/html": [
       "<div>\n",
       "<style scoped>\n",
       "    .dataframe tbody tr th:only-of-type {\n",
       "        vertical-align: middle;\n",
       "    }\n",
       "\n",
       "    .dataframe tbody tr th {\n",
       "        vertical-align: top;\n",
       "    }\n",
       "\n",
       "    .dataframe thead th {\n",
       "        text-align: right;\n",
       "    }\n",
       "</style>\n",
       "<table border=\"1\" class=\"dataframe\">\n",
       "  <thead>\n",
       "    <tr style=\"text-align: right;\">\n",
       "      <th></th>\n",
       "      <th>count</th>\n",
       "      <th>y_career_category</th>\n",
       "    </tr>\n",
       "  </thead>\n",
       "  <tbody>\n",
       "    <tr>\n",
       "      <th>AskReddit</th>\n",
       "      <td>259854</td>\n",
       "      <td>xxx</td>\n",
       "    </tr>\n",
       "    <tr>\n",
       "      <th>leagueoflegends</th>\n",
       "      <td>145383</td>\n",
       "      <td>xxx</td>\n",
       "    </tr>\n",
       "    <tr>\n",
       "      <th>nba</th>\n",
       "      <td>98420</td>\n",
       "      <td>xxx</td>\n",
       "    </tr>\n",
       "    <tr>\n",
       "      <th>nfl</th>\n",
       "      <td>94354</td>\n",
       "      <td>xxx</td>\n",
       "    </tr>\n",
       "    <tr>\n",
       "      <th>news</th>\n",
       "      <td>83751</td>\n",
       "      <td>xxx</td>\n",
       "    </tr>\n",
       "    <tr>\n",
       "      <th>...</th>\n",
       "      <td>...</td>\n",
       "      <td>...</td>\n",
       "    </tr>\n",
       "    <tr>\n",
       "      <th>MLPLounge</th>\n",
       "      <td>10198</td>\n",
       "      <td>xxx</td>\n",
       "    </tr>\n",
       "    <tr>\n",
       "      <th>NASCAR</th>\n",
       "      <td>10139</td>\n",
       "      <td>xxx</td>\n",
       "    </tr>\n",
       "    <tr>\n",
       "      <th>LifeProTips</th>\n",
       "      <td>10075</td>\n",
       "      <td>xxx</td>\n",
       "    </tr>\n",
       "    <tr>\n",
       "      <th>childfree</th>\n",
       "      <td>10059</td>\n",
       "      <td>xxx</td>\n",
       "    </tr>\n",
       "    <tr>\n",
       "      <th>bravefrontier</th>\n",
       "      <td>10032</td>\n",
       "      <td>xxx</td>\n",
       "    </tr>\n",
       "  </tbody>\n",
       "</table>\n",
       "<p>113 rows × 2 columns</p>\n",
       "</div>"
      ],
      "text/plain": [
       "                  count y_career_category\n",
       "AskReddit        259854               xxx\n",
       "leagueoflegends  145383               xxx\n",
       "nba               98420               xxx\n",
       "nfl               94354               xxx\n",
       "news              83751               xxx\n",
       "...                 ...               ...\n",
       "MLPLounge         10198               xxx\n",
       "NASCAR            10139               xxx\n",
       "LifeProTips       10075               xxx\n",
       "childfree         10059               xxx\n",
       "bravefrontier     10032               xxx\n",
       "\n",
       "[113 rows x 2 columns]"
      ]
     },
     "execution_count": 33,
     "metadata": {},
     "output_type": "execute_result"
    }
   ],
   "source": [
    "subreddit[subreddit['count'] > 10000]"
   ]
  },
  {
   "cell_type": "code",
   "execution_count": 34,
   "metadata": {},
   "outputs": [],
   "source": [
    "# dropping all rows from random subreddits comments for subreddit topics that will not help in career identification\n",
    "reddit.drop(reddit[(reddit['subreddit'] == 'AskReddit') |\n",
    "                    (reddit['subreddit'] == 'funny') |\n",
    "                    (reddit['subreddit'] == 'pics') | \n",
    "                    (reddit['subreddit'] == 'atheism') |\n",
    "                    (reddit['subreddit'] == 'aww') |\n",
    "                    (reddit['subreddit'] == 'fatpeoplehate') |\n",
    "                    (reddit['subreddit'] == 'Showerthoughts') |\n",
    "                    (reddit['subreddit'] == 'WTF')].index, axis=0, inplace=True)"
   ]
  },
  {
   "cell_type": "code",
   "execution_count": 35,
   "metadata": {},
   "outputs": [
    {
     "data": {
      "text/plain": [
       "(5996535, 15)"
      ]
     },
     "execution_count": 35,
     "metadata": {},
     "output_type": "execute_result"
    }
   ],
   "source": [
    "reddit.shape"
   ]
  },
  {
   "cell_type": "code",
   "execution_count": 38,
   "metadata": {},
   "outputs": [],
   "source": [
    "reddit.to_csv('cleaned.csv')"
   ]
  },
  {
   "cell_type": "code",
   "execution_count": 138,
   "metadata": {},
   "outputs": [
    {
     "data": {
      "text/html": [
       "<div>\n",
       "<style scoped>\n",
       "    .dataframe tbody tr th:only-of-type {\n",
       "        vertical-align: middle;\n",
       "    }\n",
       "\n",
       "    .dataframe tbody tr th {\n",
       "        vertical-align: top;\n",
       "    }\n",
       "\n",
       "    .dataframe thead th {\n",
       "        text-align: right;\n",
       "    }\n",
       "</style>\n",
       "<table border=\"1\" class=\"dataframe\">\n",
       "  <thead>\n",
       "    <tr style=\"text-align: right;\">\n",
       "      <th></th>\n",
       "      <th>count</th>\n",
       "      <th>y_career_category</th>\n",
       "    </tr>\n",
       "  </thead>\n",
       "  <tbody>\n",
       "    <tr>\n",
       "      <th>leagueoflegends</th>\n",
       "      <td>132818</td>\n",
       "      <td>xxx</td>\n",
       "    </tr>\n",
       "    <tr>\n",
       "      <th>nba</th>\n",
       "      <td>89358</td>\n",
       "      <td>xxx</td>\n",
       "    </tr>\n",
       "  </tbody>\n",
       "</table>\n",
       "</div>"
      ],
      "text/plain": [
       "                  count y_career_category\n",
       "leagueoflegends  132818               xxx\n",
       "nba               89358               xxx"
      ]
     },
     "execution_count": 138,
     "metadata": {},
     "output_type": "execute_result"
    }
   ],
   "source": [
    "# running the smae code again to get subreddit list that does not contain un-imp subreddits\n",
    "subreddit = pd.DataFrame(reddit.subreddit.value_counts())\n",
    "\n",
    "# renaming the subreddit column to count to show the frequency of posting for the subreddit and hence the popularity\n",
    "subreddit.rename(columns={'subreddit': 'count'}, inplace=True)\n",
    "\n",
    "# code to show total number of unique values in the calumns: total number of subreddit in the data loaded for now\n",
    "reddit.subreddit.nunique()\n",
    "\n",
    "# adding a new column with \"xxx\" as proxy \n",
    "subreddit['y_career_category'] = 'xxx'\n",
    "subreddit.head(2)"
   ]
  },
  {
   "cell_type": "code",
   "execution_count": 139,
   "metadata": {},
   "outputs": [
    {
     "data": {
      "text/html": [
       "<div>\n",
       "<style scoped>\n",
       "    .dataframe tbody tr th:only-of-type {\n",
       "        vertical-align: middle;\n",
       "    }\n",
       "\n",
       "    .dataframe tbody tr th {\n",
       "        vertical-align: top;\n",
       "    }\n",
       "\n",
       "    .dataframe thead th {\n",
       "        text-align: right;\n",
       "    }\n",
       "</style>\n",
       "<table border=\"1\" class=\"dataframe\">\n",
       "  <thead>\n",
       "    <tr style=\"text-align: right;\">\n",
       "      <th></th>\n",
       "      <th>count</th>\n",
       "      <th>y_career_category</th>\n",
       "    </tr>\n",
       "  </thead>\n",
       "  <tbody>\n",
       "    <tr>\n",
       "      <th>leagueoflegends</th>\n",
       "      <td>132818</td>\n",
       "      <td>xxx</td>\n",
       "    </tr>\n",
       "    <tr>\n",
       "      <th>nba</th>\n",
       "      <td>89358</td>\n",
       "      <td>xxx</td>\n",
       "    </tr>\n",
       "    <tr>\n",
       "      <th>nfl</th>\n",
       "      <td>83873</td>\n",
       "      <td>xxx</td>\n",
       "    </tr>\n",
       "    <tr>\n",
       "      <th>news</th>\n",
       "      <td>76245</td>\n",
       "      <td>xxx</td>\n",
       "    </tr>\n",
       "    <tr>\n",
       "      <th>DotA2</th>\n",
       "      <td>66729</td>\n",
       "      <td>xxx</td>\n",
       "    </tr>\n",
       "    <tr>\n",
       "      <th>pcmasterrace</th>\n",
       "      <td>60955</td>\n",
       "      <td>xxx</td>\n",
       "    </tr>\n",
       "    <tr>\n",
       "      <th>AdviceAnimals</th>\n",
       "      <td>57084</td>\n",
       "      <td>xxx</td>\n",
       "    </tr>\n",
       "    <tr>\n",
       "      <th>hockey</th>\n",
       "      <td>56966</td>\n",
       "      <td>xxx</td>\n",
       "    </tr>\n",
       "    <tr>\n",
       "      <th>movies</th>\n",
       "      <td>53997</td>\n",
       "      <td>xxx</td>\n",
       "    </tr>\n",
       "    <tr>\n",
       "      <th>soccer</th>\n",
       "      <td>51247</td>\n",
       "      <td>xxx</td>\n",
       "    </tr>\n",
       "    <tr>\n",
       "      <th>GlobalOffensive</th>\n",
       "      <td>44356</td>\n",
       "      <td>xxx</td>\n",
       "    </tr>\n",
       "    <tr>\n",
       "      <th>SquaredCircle</th>\n",
       "      <td>43683</td>\n",
       "      <td>xxx</td>\n",
       "    </tr>\n",
       "    <tr>\n",
       "      <th>DestinyTheGame</th>\n",
       "      <td>40957</td>\n",
       "      <td>xxx</td>\n",
       "    </tr>\n",
       "    <tr>\n",
       "      <th>gaming</th>\n",
       "      <td>40804</td>\n",
       "      <td>xxx</td>\n",
       "    </tr>\n",
       "    <tr>\n",
       "      <th>politics</th>\n",
       "      <td>31559</td>\n",
       "      <td>xxx</td>\n",
       "    </tr>\n",
       "    <tr>\n",
       "      <th>gifs</th>\n",
       "      <td>30433</td>\n",
       "      <td>xxx</td>\n",
       "    </tr>\n",
       "    <tr>\n",
       "      <th>Boxing</th>\n",
       "      <td>28247</td>\n",
       "      <td>xxx</td>\n",
       "    </tr>\n",
       "    <tr>\n",
       "      <th>relationships</th>\n",
       "      <td>27524</td>\n",
       "      <td>xxx</td>\n",
       "    </tr>\n",
       "    <tr>\n",
       "      <th>anime</th>\n",
       "      <td>27193</td>\n",
       "      <td>xxx</td>\n",
       "    </tr>\n",
       "    <tr>\n",
       "      <th>asoiaf</th>\n",
       "      <td>26310</td>\n",
       "      <td>xxx</td>\n",
       "    </tr>\n",
       "  </tbody>\n",
       "</table>\n",
       "</div>"
      ],
      "text/plain": [
       "                  count y_career_category\n",
       "leagueoflegends  132818               xxx\n",
       "nba               89358               xxx\n",
       "nfl               83873               xxx\n",
       "news              76245               xxx\n",
       "DotA2             66729               xxx\n",
       "pcmasterrace      60955               xxx\n",
       "AdviceAnimals     57084               xxx\n",
       "hockey            56966               xxx\n",
       "movies            53997               xxx\n",
       "soccer            51247               xxx\n",
       "GlobalOffensive   44356               xxx\n",
       "SquaredCircle     43683               xxx\n",
       "DestinyTheGame    40957               xxx\n",
       "gaming            40804               xxx\n",
       "politics          31559               xxx\n",
       "gifs              30433               xxx\n",
       "Boxing            28247               xxx\n",
       "relationships     27524               xxx\n",
       "anime             27193               xxx\n",
       "asoiaf            26310               xxx"
      ]
     },
     "execution_count": 139,
     "metadata": {},
     "output_type": "execute_result"
    }
   ],
   "source": [
    "subreddit.head(20)"
   ]
  },
  {
   "cell_type": "code",
   "execution_count": 44,
   "metadata": {},
   "outputs": [],
   "source": [
    "# Cleaning further identifeid topics from \n",
    "reddit.drop(reddit[(reddit['subreddit'] == 'todayilearned') |\n",
    "                   (reddit['subreddit'] == 'conspiracy') |\n",
    "                   (reddit['subreddit'] == 'videos') |\n",
    "                   (reddit['subreddit'] == 'worldnews') |\n",
    "                   (reddit['subreddit'] == 'CasualConversation')].index, axis=0, inplace=True)"
   ]
  },
  {
   "cell_type": "code",
   "execution_count": 45,
   "metadata": {},
   "outputs": [
    {
     "data": {
      "text/plain": [
       "(5553934, 15)"
      ]
     },
     "execution_count": 45,
     "metadata": {},
     "output_type": "execute_result"
    }
   ],
   "source": [
    "reddit.shape"
   ]
  },
  {
   "cell_type": "code",
   "execution_count": 46,
   "metadata": {},
   "outputs": [],
   "source": [
    "# It is an extremely time consuming process to remove the rows and clena the dataset. Therefore, i am saving the result of this into a csv in case something happens and my system crashes.\n",
    "reddit.to_csv('cleaned.csv')"
   ]
  },
  {
   "cell_type": "code",
   "execution_count": 189,
   "metadata": {},
   "outputs": [
    {
     "data": {
      "text/html": [
       "<div>\n",
       "<style scoped>\n",
       "    .dataframe tbody tr th:only-of-type {\n",
       "        vertical-align: middle;\n",
       "    }\n",
       "\n",
       "    .dataframe tbody tr th {\n",
       "        vertical-align: top;\n",
       "    }\n",
       "\n",
       "    .dataframe thead th {\n",
       "        text-align: right;\n",
       "    }\n",
       "</style>\n",
       "<table border=\"1\" class=\"dataframe\">\n",
       "  <thead>\n",
       "    <tr style=\"text-align: right;\">\n",
       "      <th></th>\n",
       "      <th>count</th>\n",
       "      <th>y_career_category</th>\n",
       "    </tr>\n",
       "  </thead>\n",
       "  <tbody>\n",
       "    <tr>\n",
       "      <th>leagueoflegends</th>\n",
       "      <td>132818</td>\n",
       "      <td>xxx</td>\n",
       "    </tr>\n",
       "    <tr>\n",
       "      <th>nba</th>\n",
       "      <td>89358</td>\n",
       "      <td>xxx</td>\n",
       "    </tr>\n",
       "    <tr>\n",
       "      <th>nfl</th>\n",
       "      <td>83873</td>\n",
       "      <td>xxx</td>\n",
       "    </tr>\n",
       "    <tr>\n",
       "      <th>news</th>\n",
       "      <td>76245</td>\n",
       "      <td>xxx</td>\n",
       "    </tr>\n",
       "    <tr>\n",
       "      <th>DotA2</th>\n",
       "      <td>66729</td>\n",
       "      <td>xxx</td>\n",
       "    </tr>\n",
       "    <tr>\n",
       "      <th>pcmasterrace</th>\n",
       "      <td>60955</td>\n",
       "      <td>xxx</td>\n",
       "    </tr>\n",
       "    <tr>\n",
       "      <th>AdviceAnimals</th>\n",
       "      <td>57084</td>\n",
       "      <td>xxx</td>\n",
       "    </tr>\n",
       "    <tr>\n",
       "      <th>hockey</th>\n",
       "      <td>56966</td>\n",
       "      <td>xxx</td>\n",
       "    </tr>\n",
       "    <tr>\n",
       "      <th>movies</th>\n",
       "      <td>53997</td>\n",
       "      <td>xxx</td>\n",
       "    </tr>\n",
       "    <tr>\n",
       "      <th>soccer</th>\n",
       "      <td>51247</td>\n",
       "      <td>xxx</td>\n",
       "    </tr>\n",
       "    <tr>\n",
       "      <th>GlobalOffensive</th>\n",
       "      <td>44356</td>\n",
       "      <td>xxx</td>\n",
       "    </tr>\n",
       "    <tr>\n",
       "      <th>SquaredCircle</th>\n",
       "      <td>43683</td>\n",
       "      <td>xxx</td>\n",
       "    </tr>\n",
       "    <tr>\n",
       "      <th>DestinyTheGame</th>\n",
       "      <td>40957</td>\n",
       "      <td>xxx</td>\n",
       "    </tr>\n",
       "    <tr>\n",
       "      <th>gaming</th>\n",
       "      <td>40804</td>\n",
       "      <td>xxx</td>\n",
       "    </tr>\n",
       "    <tr>\n",
       "      <th>politics</th>\n",
       "      <td>31559</td>\n",
       "      <td>xxx</td>\n",
       "    </tr>\n",
       "    <tr>\n",
       "      <th>gifs</th>\n",
       "      <td>30433</td>\n",
       "      <td>xxx</td>\n",
       "    </tr>\n",
       "    <tr>\n",
       "      <th>Boxing</th>\n",
       "      <td>28247</td>\n",
       "      <td>xxx</td>\n",
       "    </tr>\n",
       "    <tr>\n",
       "      <th>relationships</th>\n",
       "      <td>27524</td>\n",
       "      <td>xxx</td>\n",
       "    </tr>\n",
       "    <tr>\n",
       "      <th>anime</th>\n",
       "      <td>27193</td>\n",
       "      <td>xxx</td>\n",
       "    </tr>\n",
       "    <tr>\n",
       "      <th>asoiaf</th>\n",
       "      <td>26310</td>\n",
       "      <td>xxx</td>\n",
       "    </tr>\n",
       "  </tbody>\n",
       "</table>\n",
       "</div>"
      ],
      "text/plain": [
       "                  count y_career_category\n",
       "leagueoflegends  132818               xxx\n",
       "nba               89358               xxx\n",
       "nfl               83873               xxx\n",
       "news              76245               xxx\n",
       "DotA2             66729               xxx\n",
       "pcmasterrace      60955               xxx\n",
       "AdviceAnimals     57084               xxx\n",
       "hockey            56966               xxx\n",
       "movies            53997               xxx\n",
       "soccer            51247               xxx\n",
       "GlobalOffensive   44356               xxx\n",
       "SquaredCircle     43683               xxx\n",
       "DestinyTheGame    40957               xxx\n",
       "gaming            40804               xxx\n",
       "politics          31559               xxx\n",
       "gifs              30433               xxx\n",
       "Boxing            28247               xxx\n",
       "relationships     27524               xxx\n",
       "anime             27193               xxx\n",
       "asoiaf            26310               xxx"
      ]
     },
     "execution_count": 189,
     "metadata": {},
     "output_type": "execute_result"
    }
   ],
   "source": [
    "# running the smae code again to get subreddit list that does not contain un-imp subreddits\n",
    "subreddit = pd.DataFrame(reddit.subreddit.value_counts())\n",
    "\n",
    "# renaming the subreddit column to count to show the frequency of posting for the subreddit and hence the popularity\n",
    "subreddit.rename(columns={'subreddit': 'count'}, inplace=True)\n",
    "\n",
    "# code to show total number of unique values in the calumns: total number of subreddit in the data loaded for now\n",
    "reddit.subreddit.nunique()\n",
    "\n",
    "# adding a new column with \"xxx\" as proxy \n",
    "subreddit['y_career_category'] = 'xxx'\n",
    "subreddit = subreddit[subreddit['count'] > 6700] \n",
    "subreddit.head(20)"
   ]
  },
  {
   "cell_type": "code",
   "execution_count": 190,
   "metadata": {},
   "outputs": [
    {
     "data": {
      "text/plain": [
       "(147, 2)"
      ]
     },
     "execution_count": 190,
     "metadata": {},
     "output_type": "execute_result"
    }
   ],
   "source": [
    "subreddit.shape"
   ]
  },
  {
   "cell_type": "code",
   "execution_count": 191,
   "metadata": {},
   "outputs": [
    {
     "data": {
      "text/plain": [
       "['leagueoflegends', 'nba', 'nfl', 'news', 'DotA2']"
      ]
     },
     "execution_count": 191,
     "metadata": {},
     "output_type": "execute_result"
    }
   ],
   "source": [
    "# displaying rows and creating a list of them\n",
    "index = subreddit.index.values.tolist()\n",
    "index[:5]"
   ]
  },
  {
   "cell_type": "code",
   "execution_count": 192,
   "metadata": {},
   "outputs": [
    {
     "data": {
      "text/plain": [
       "'games'"
      ]
     },
     "execution_count": 192,
     "metadata": {},
     "output_type": "execute_result"
    }
   ],
   "source": [
    "# Creating a list for the Y in the \n",
    "career_category = ['science_technology', 'sports', 'games', 'politics', 'arts', 'xxx']\n",
    "career_category[2]"
   ]
  },
  {
   "cell_type": "code",
   "execution_count": 193,
   "metadata": {},
   "outputs": [],
   "source": [
    "# made to check the function defined to label each subreddit\n",
    "# subreddit_small = subreddit.loc[10:]"
   ]
  },
  {
   "cell_type": "code",
   "execution_count": 196,
   "metadata": {},
   "outputs": [],
   "source": [
    "# creating a function that will help in labeling each subreddit to the Y colunmn (y_career_category)\n",
    "\n",
    "def label_subreddit(df, index):\n",
    "    '''\n",
    "    The function requires two inputs:\n",
    "    1. Data frame that has to be labelled with the subreddits as index of the df and y_career_category as the column which which will store the labels\n",
    "    2. The index list (subreddits) to loop on and provide label for  \n",
    "    \n",
    "    \n",
    "    Outputs:\n",
    "    The pre-defined list, career_category, with  lables will be printed and user will provede what label to put for which subreddit. 'xxx' is the label of all unwanted categories \n",
    "    error_category list will be printed to give a list of all subreddits with an errorenous category selected\n",
    "    the data frame iwth teh update labels will be printed\n",
    "    '''\n",
    "    \n",
    "    global error_category\n",
    "    error_category = []\n",
    "    \n",
    "    global career_category\n",
    "    career_category = ['science_technology', 'sports', 'games', 'politics', 'fitness', 'xxx', 'h']\n",
    "    j = 0\n",
    "    \n",
    "    print(career_category, '\\n')\n",
    "    \n",
    "    for i in index:\n",
    "        print(df.iloc[[j]])\n",
    "        c = input(\"Input Career Category\")\n",
    "        j+=1\n",
    "        \n",
    "        try:\n",
    "            assert c in career_category\n",
    "        except AssertionError:\n",
    "            print(f'AssertionError for: {i}', '\\n')\n",
    "            error_category.append(i)\n",
    "            continue\n",
    "        else:\n",
    "            df.loc[[i], ['y_career_category']] = c\n",
    "            print(f'{c} added', '\\n')\n",
    "    print(df, '\\n')\n",
    "    print(f'Error in the following categories: {error_category}')"
   ]
  },
  {
   "cell_type": "code",
   "execution_count": 197,
   "metadata": {
    "collapsed": true,
    "jupyter": {
     "outputs_hidden": true
    }
   },
   "outputs": [
    {
     "name": "stdout",
     "output_type": "stream",
     "text": [
      "['science_technology', 'sports', 'games', 'politics', 'fitness', 'xxx', 'h'] \n",
      "\n",
      "                  count y_career_category\n",
      "leagueoflegends  132818               xxx\n"
     ]
    },
    {
     "name": "stdin",
     "output_type": "stream",
     "text": [
      "Input Career Category xxx\n"
     ]
    },
    {
     "name": "stdout",
     "output_type": "stream",
     "text": [
      "xxx added \n",
      "\n",
      "     count y_career_category\n",
      "nba  89358               xxx\n"
     ]
    },
    {
     "name": "stdin",
     "output_type": "stream",
     "text": [
      "Input Career Category xxx\n"
     ]
    },
    {
     "name": "stdout",
     "output_type": "stream",
     "text": [
      "xxx added \n",
      "\n",
      "     count y_career_category\n",
      "nfl  83873               xxx\n"
     ]
    },
    {
     "name": "stdin",
     "output_type": "stream",
     "text": [
      "Input Career Category xxx\n"
     ]
    },
    {
     "name": "stdout",
     "output_type": "stream",
     "text": [
      "xxx added \n",
      "\n",
      "      count y_career_category\n",
      "news  76245               xxx\n"
     ]
    },
    {
     "name": "stdin",
     "output_type": "stream",
     "text": [
      "Input Career Category xxx\n"
     ]
    },
    {
     "name": "stdout",
     "output_type": "stream",
     "text": [
      "xxx added \n",
      "\n",
      "       count y_career_category\n",
      "DotA2  66729               xxx\n"
     ]
    },
    {
     "name": "stdin",
     "output_type": "stream",
     "text": [
      "Input Career Category xxx\n"
     ]
    },
    {
     "name": "stdout",
     "output_type": "stream",
     "text": [
      "xxx added \n",
      "\n",
      "              count y_career_category\n",
      "pcmasterrace  60955               xxx\n"
     ]
    },
    {
     "name": "stdin",
     "output_type": "stream",
     "text": [
      "Input Career Category xxx\n"
     ]
    },
    {
     "name": "stdout",
     "output_type": "stream",
     "text": [
      "xxx added \n",
      "\n",
      "               count y_career_category\n",
      "AdviceAnimals  57084               xxx\n"
     ]
    },
    {
     "name": "stdin",
     "output_type": "stream",
     "text": [
      "Input Career Category xxx\n"
     ]
    },
    {
     "name": "stdout",
     "output_type": "stream",
     "text": [
      "xxx added \n",
      "\n",
      "        count y_career_category\n",
      "hockey  56966               xxx\n"
     ]
    },
    {
     "name": "stdin",
     "output_type": "stream",
     "text": [
      "Input Career Category xxx\n"
     ]
    },
    {
     "name": "stdout",
     "output_type": "stream",
     "text": [
      "xxx added \n",
      "\n",
      "        count y_career_category\n",
      "movies  53997               xxx\n"
     ]
    },
    {
     "name": "stdin",
     "output_type": "stream",
     "text": [
      "Input Career Category xxx\n"
     ]
    },
    {
     "name": "stdout",
     "output_type": "stream",
     "text": [
      "xxx added \n",
      "\n",
      "        count y_career_category\n",
      "soccer  51247            sports\n"
     ]
    },
    {
     "name": "stdin",
     "output_type": "stream",
     "text": [
      "Input Career Category sports\n"
     ]
    },
    {
     "name": "stdout",
     "output_type": "stream",
     "text": [
      "sports added \n",
      "\n",
      "                 count y_career_category\n",
      "GlobalOffensive  44356             games\n"
     ]
    },
    {
     "name": "stdin",
     "output_type": "stream",
     "text": [
      "Input Career Category xxx\n"
     ]
    },
    {
     "name": "stdout",
     "output_type": "stream",
     "text": [
      "xxx added \n",
      "\n",
      "               count y_career_category\n",
      "SquaredCircle  43683               xxx\n"
     ]
    },
    {
     "name": "stdin",
     "output_type": "stream",
     "text": [
      "Input Career Category xxx\n"
     ]
    },
    {
     "name": "stdout",
     "output_type": "stream",
     "text": [
      "xxx added \n",
      "\n",
      "                count y_career_category\n",
      "DestinyTheGame  40957               xxx\n"
     ]
    },
    {
     "name": "stdin",
     "output_type": "stream",
     "text": [
      "Input Career Category xxx\n"
     ]
    },
    {
     "name": "stdout",
     "output_type": "stream",
     "text": [
      "xxx added \n",
      "\n",
      "        count y_career_category\n",
      "gaming  40804             games\n"
     ]
    },
    {
     "name": "stdin",
     "output_type": "stream",
     "text": [
      "Input Career Category games\n"
     ]
    },
    {
     "name": "stdout",
     "output_type": "stream",
     "text": [
      "games added \n",
      "\n",
      "          count y_career_category\n",
      "politics  31559          politics\n"
     ]
    },
    {
     "name": "stdin",
     "output_type": "stream",
     "text": [
      "Input Career Category politics\n"
     ]
    },
    {
     "name": "stdout",
     "output_type": "stream",
     "text": [
      "politics added \n",
      "\n",
      "      count y_career_category\n",
      "gifs  30433               xxx\n"
     ]
    },
    {
     "name": "stdin",
     "output_type": "stream",
     "text": [
      "Input Career Category xxx\n"
     ]
    },
    {
     "name": "stdout",
     "output_type": "stream",
     "text": [
      "xxx added \n",
      "\n",
      "        count y_career_category\n",
      "Boxing  28247               xxx\n"
     ]
    },
    {
     "name": "stdin",
     "output_type": "stream",
     "text": [
      "Input Career Category xxx\n"
     ]
    },
    {
     "name": "stdout",
     "output_type": "stream",
     "text": [
      "xxx added \n",
      "\n",
      "               count y_career_category\n",
      "relationships  27524               xxx\n"
     ]
    },
    {
     "name": "stdin",
     "output_type": "stream",
     "text": [
      "Input Career Category xxx\n"
     ]
    },
    {
     "name": "stdout",
     "output_type": "stream",
     "text": [
      "xxx added \n",
      "\n",
      "       count y_career_category\n",
      "anime  27193               xxx\n"
     ]
    },
    {
     "name": "stdin",
     "output_type": "stream",
     "text": [
      "Input Career Category xxx\n"
     ]
    },
    {
     "name": "stdout",
     "output_type": "stream",
     "text": [
      "xxx added \n",
      "\n",
      "        count y_career_category\n",
      "asoiaf  26310               xxx\n"
     ]
    },
    {
     "name": "stdin",
     "output_type": "stream",
     "text": [
      "Input Career Category xxx\n"
     ]
    },
    {
     "name": "stdout",
     "output_type": "stream",
     "text": [
      "xxx added \n",
      "\n",
      "                   count y_career_category\n",
      "explainlikeimfive  24957               xxx\n"
     ]
    },
    {
     "name": "stdin",
     "output_type": "stream",
     "text": [
      "Input Career Category xxx\n"
     ]
    },
    {
     "name": "stdout",
     "output_type": "stream",
     "text": [
      "xxx added \n",
      "\n",
      "                count y_career_category\n",
      "TumblrInAction  24262               xxx\n"
     ]
    },
    {
     "name": "stdin",
     "output_type": "stream",
     "text": [
      "Input Career Category xxx\n"
     ]
    },
    {
     "name": "stdout",
     "output_type": "stream",
     "text": [
      "xxx added \n",
      "\n",
      "             count y_career_category\n",
      "hearthstone  23884               xxx\n"
     ]
    },
    {
     "name": "stdin",
     "output_type": "stream",
     "text": [
      "Input Career Category xxx\n"
     ]
    },
    {
     "name": "stdout",
     "output_type": "stream",
     "text": [
      "xxx added \n",
      "\n",
      "                      count y_career_category\n",
      "electronic_cigarette  23538               xxx\n"
     ]
    },
    {
     "name": "stdin",
     "output_type": "stream",
     "text": [
      "Input Career Category xxx\n"
     ]
    },
    {
     "name": "stdout",
     "output_type": "stream",
     "text": [
      "xxx added \n",
      "\n",
      "           count y_career_category\n",
      "thebutton  22425               xxx\n"
     ]
    },
    {
     "name": "stdin",
     "output_type": "stream",
     "text": [
      "Input Career Category xxx\n"
     ]
    },
    {
     "name": "stdout",
     "output_type": "stream",
     "text": [
      "xxx added \n",
      "\n",
      "                      count y_career_category\n",
      "GlobalOffensiveTrade  22021               xxx\n"
     ]
    },
    {
     "name": "stdin",
     "output_type": "stream",
     "text": [
      "Input Career Category xxx\n"
     ]
    },
    {
     "name": "stdout",
     "output_type": "stream",
     "text": [
      "xxx added \n",
      "\n",
      "               count y_career_category\n",
      "gameofthrones  21891               xxx\n"
     ]
    },
    {
     "name": "stdin",
     "output_type": "stream",
     "text": [
      "Input Career Category xxx\n"
     ]
    },
    {
     "name": "stdout",
     "output_type": "stream",
     "text": [
      "xxx added \n",
      "\n",
      "       count y_career_category\n",
      "trees  21867               xxx\n"
     ]
    },
    {
     "name": "stdin",
     "output_type": "stream",
     "text": [
      "Input Career Category xxx\n"
     ]
    },
    {
     "name": "stdout",
     "output_type": "stream",
     "text": [
      "xxx added \n",
      "\n",
      "          count y_career_category\n",
      "newsokur  21617               xxx\n"
     ]
    },
    {
     "name": "stdin",
     "output_type": "stream",
     "text": [
      "Input Career Category xxx\n"
     ]
    },
    {
     "name": "stdout",
     "output_type": "stream",
     "text": [
      "xxx added \n",
      "\n",
      "         count y_career_category\n",
      "Fitness  20139               xxx\n"
     ]
    },
    {
     "name": "stdin",
     "output_type": "stream",
     "text": [
      "Input Career Category fitness\n"
     ]
    },
    {
     "name": "stdout",
     "output_type": "stream",
     "text": [
      "fitness added \n",
      "\n",
      "        count y_career_category\n",
      "amiibo  19016               xxx\n"
     ]
    },
    {
     "name": "stdin",
     "output_type": "stream",
     "text": [
      "Input Career Category xxx\n"
     ]
    },
    {
     "name": "stdout",
     "output_type": "stream",
     "text": [
      "xxx added \n",
      "\n",
      "          count y_career_category\n",
      "buildapc  18174               xxx\n"
     ]
    },
    {
     "name": "stdin",
     "output_type": "stream",
     "text": [
      "Input Career Category science_technology\n"
     ]
    },
    {
     "name": "stdout",
     "output_type": "stream",
     "text": [
      "science_technology added \n",
      "\n",
      "      count y_career_category\n",
      "tifu  18126               xxx\n"
     ]
    },
    {
     "name": "stdin",
     "output_type": "stream",
     "text": [
      "Input Career Category xxx\n"
     ]
    },
    {
     "name": "stdout",
     "output_type": "stream",
     "text": [
      "xxx added \n",
      "\n",
      "                count y_career_category\n",
      "KotakuInAction  17821               xxx\n"
     ]
    },
    {
     "name": "stdin",
     "output_type": "stream",
     "text": [
      "Input Career Category xxx\n"
     ]
    },
    {
     "name": "stdout",
     "output_type": "stream",
     "text": [
      "xxx added \n",
      "\n",
      "            count y_career_category\n",
      "technology  17699               xxx\n"
     ]
    },
    {
     "name": "stdin",
     "output_type": "stream",
     "text": [
      "Input Career Category science_technology\n"
     ]
    },
    {
     "name": "stdout",
     "output_type": "stream",
     "text": [
      "science_technology added \n",
      "\n",
      "           count y_career_category\n",
      "smashbros  17681               xxx\n"
     ]
    },
    {
     "name": "stdin",
     "output_type": "stream",
     "text": [
      "Input Career Category xxx\n"
     ]
    },
    {
     "name": "stdout",
     "output_type": "stream",
     "text": [
      "xxx added \n",
      "\n",
      "          count y_career_category\n",
      "gonewild  17308               xxx\n"
     ]
    },
    {
     "name": "stdin",
     "output_type": "stream",
     "text": [
      "Input Career Category xxx\n"
     ]
    },
    {
     "name": "stdout",
     "output_type": "stream",
     "text": [
      "xxx added \n",
      "\n",
      "        count y_career_category\n",
      "AskMen  17168               xxx\n"
     ]
    },
    {
     "name": "stdin",
     "output_type": "stream",
     "text": [
      "Input Career Category xxx\n"
     ]
    },
    {
     "name": "stdout",
     "output_type": "stream",
     "text": [
      "xxx added \n",
      "\n",
      "           count y_career_category\n",
      "2007scape  16836               xxx\n"
     ]
    },
    {
     "name": "stdin",
     "output_type": "stream",
     "text": [
      "Input Career Category xxx\n"
     ]
    },
    {
     "name": "stdout",
     "output_type": "stream",
     "text": [
      "xxx added \n",
      "\n",
      "      count y_career_category\n",
      "IAmA  16600               xxx\n"
     ]
    },
    {
     "name": "stdin",
     "output_type": "stream",
     "text": [
      "Input Career Category xxx\n"
     ]
    },
    {
     "name": "stdout",
     "output_type": "stream",
     "text": [
      "xxx added \n",
      "\n",
      "           count y_career_category\n",
      "Fireteams  15914               xxx\n"
     ]
    },
    {
     "name": "stdin",
     "output_type": "stream",
     "text": [
      "Input Career Category xxx\n"
     ]
    },
    {
     "name": "stdout",
     "output_type": "stream",
     "text": [
      "xxx added \n",
      "\n",
      "                 count y_career_category\n",
      "rupaulsdragrace  15822               xxx\n"
     ]
    },
    {
     "name": "stdin",
     "output_type": "stream",
     "text": [
      "Input Career Category xxx\n"
     ]
    },
    {
     "name": "stdout",
     "output_type": "stream",
     "text": [
      "xxx added \n",
      "\n",
      "                   count y_career_category\n",
      "mildlyinteresting  15778               xxx\n"
     ]
    },
    {
     "name": "stdin",
     "output_type": "stream",
     "text": [
      "Input Career Category xxx\n"
     ]
    },
    {
     "name": "stdout",
     "output_type": "stream",
     "text": [
      "xxx added \n",
      "\n",
      "       count y_career_category\n",
      "Smite  15538               xxx\n"
     ]
    },
    {
     "name": "stdin",
     "output_type": "stream",
     "text": [
      "Input Career Category xxx\n"
     ]
    },
    {
     "name": "stdout",
     "output_type": "stream",
     "text": [
      "xxx added \n",
      "\n",
      "       count y_career_category\n",
      "Games  15391               xxx\n"
     ]
    },
    {
     "name": "stdin",
     "output_type": "stream",
     "text": [
      "Input Career Category games\n"
     ]
    },
    {
     "name": "stdout",
     "output_type": "stream",
     "text": [
      "games added \n",
      "\n",
      "          count y_career_category\n",
      "baseball  15121               xxx\n"
     ]
    },
    {
     "name": "stdin",
     "output_type": "stream",
     "text": [
      "Input Career Category xxx\n"
     ]
    },
    {
     "name": "stdout",
     "output_type": "stream",
     "text": [
      "xxx added \n",
      "\n",
      "                    count y_career_category\n",
      "GrandTheftAutoV_PC  15117               xxx\n"
     ]
    },
    {
     "name": "stdin",
     "output_type": "stream",
     "text": [
      "Input Career Category xxx\n"
     ]
    },
    {
     "name": "stdout",
     "output_type": "stream",
     "text": [
      "xxx added \n",
      "\n",
      "          count y_career_category\n",
      "AskWomen  15065               xxx\n"
     ]
    },
    {
     "name": "stdin",
     "output_type": "stream",
     "text": [
      "Input Career Category xxx\n"
     ]
    },
    {
     "name": "stdout",
     "output_type": "stream",
     "text": [
      "xxx added \n",
      "\n",
      "                    count y_career_category\n",
      "KerbalSpaceProgram  15025               xxx\n"
     ]
    },
    {
     "name": "stdin",
     "output_type": "stream",
     "text": [
      "Input Career Category xxx\n"
     ]
    },
    {
     "name": "stdout",
     "output_type": "stream",
     "text": [
      "xxx added \n",
      "\n",
      "       count y_career_category\n",
      "Music  13939               xxx\n"
     ]
    },
    {
     "name": "stdin",
     "output_type": "stream",
     "text": [
      "Input Career Category xxx\n"
     ]
    },
    {
     "name": "stdout",
     "output_type": "stream",
     "text": [
      "xxx added \n",
      "\n",
      "         count y_career_category\n",
      "Android  13813               xxx\n"
     ]
    },
    {
     "name": "stdin",
     "output_type": "stream",
     "text": [
      "Input Career Category science_technology\n"
     ]
    },
    {
     "name": "stdout",
     "output_type": "stream",
     "text": [
      "science_technology added \n",
      "\n",
      "                count y_career_category\n",
      "SubredditDrama  13740               xxx\n"
     ]
    },
    {
     "name": "stdin",
     "output_type": "stream",
     "text": [
      "Input Career Category xxx\n"
     ]
    },
    {
     "name": "stdout",
     "output_type": "stream",
     "text": [
      "xxx added \n",
      "\n",
      "                 count y_career_category\n",
      "TwoXChromosomes  13706               xxx\n"
     ]
    },
    {
     "name": "stdin",
     "output_type": "stream",
     "text": [
      "Input Career Category xxx\n"
     ]
    },
    {
     "name": "stdout",
     "output_type": "stream",
     "text": [
      "xxx added \n",
      "\n",
      "       count y_career_category\n",
      "india  13578               xxx\n"
     ]
    },
    {
     "name": "stdin",
     "output_type": "stream",
     "text": [
      "Input Career Category xxx\n"
     ]
    },
    {
     "name": "stdout",
     "output_type": "stream",
     "text": [
      "xxx added \n",
      "\n",
      "     count y_career_category\n",
      "MMA  13574               xxx\n"
     ]
    },
    {
     "name": "stdin",
     "output_type": "stream",
     "text": [
      "Input Career Category xxx\n"
     ]
    },
    {
     "name": "stdout",
     "output_type": "stream",
     "text": [
      "xxx added \n",
      "\n",
      "             count y_career_category\n",
      "whowouldwin  13352               xxx\n"
     ]
    },
    {
     "name": "stdin",
     "output_type": "stream",
     "text": [
      "Input Career Category xxx\n"
     ]
    },
    {
     "name": "stdout",
     "output_type": "stream",
     "text": [
      "xxx added \n",
      "\n",
      "             count y_career_category\n",
      "hiphopheads  13187               xxx\n"
     ]
    },
    {
     "name": "stdin",
     "output_type": "stream",
     "text": [
      "Input Career Category xxx\n"
     ]
    },
    {
     "name": "stdout",
     "output_type": "stream",
     "text": [
      "xxx added \n",
      "\n",
      "          count y_career_category\n",
      "magicTCG  13053               xxx\n"
     ]
    },
    {
     "name": "stdin",
     "output_type": "stream",
     "text": [
      "Input Career Category xxx\n"
     ]
    },
    {
     "name": "stdout",
     "output_type": "stream",
     "text": [
      "xxx added \n",
      "\n",
      "                 count y_career_category\n",
      "personalfinance  12891               xxx\n"
     ]
    },
    {
     "name": "stdin",
     "output_type": "stream",
     "text": [
      "Input Career Category xxx\n"
     ]
    },
    {
     "name": "stdout",
     "output_type": "stream",
     "text": [
      "xxx added \n",
      "\n",
      "       count y_career_category\n",
      "ffxiv  12802               xxx\n"
     ]
    },
    {
     "name": "stdin",
     "output_type": "stream",
     "text": [
      "Input Career Category xxx\n"
     ]
    },
    {
     "name": "stdout",
     "output_type": "stream",
     "text": [
      "xxx added \n",
      "\n",
      "               count y_career_category\n",
      "marvelstudios  12796               xxx\n"
     ]
    },
    {
     "name": "stdin",
     "output_type": "stream",
     "text": [
      "Input Career Category xxx\n"
     ]
    },
    {
     "name": "stdout",
     "output_type": "stream",
     "text": [
      "xxx added \n",
      "\n",
      "             count y_career_category\n",
      "csgobetting  12783               xxx\n"
     ]
    },
    {
     "name": "stdin",
     "output_type": "stream",
     "text": [
      "Input Career Category xxx\n"
     ]
    },
    {
     "name": "stdout",
     "output_type": "stream",
     "text": [
      "xxx added \n",
      "\n",
      "            count y_career_category\n",
      "bloodborne  12778               xxx\n"
     ]
    },
    {
     "name": "stdin",
     "output_type": "stream",
     "text": [
      "Input Career Category xxx\n"
     ]
    },
    {
     "name": "stdout",
     "output_type": "stream",
     "text": [
      "xxx added \n",
      "\n",
      "     count y_career_category\n",
      "wow  12644               xxx\n"
     ]
    },
    {
     "name": "stdin",
     "output_type": "stream",
     "text": [
      "Input Career Category xxx\n"
     ]
    },
    {
     "name": "stdout",
     "output_type": "stream",
     "text": [
      "xxx added \n",
      "\n",
      "     count y_career_category\n",
      "CFB  12321               xxx\n"
     ]
    },
    {
     "name": "stdin",
     "output_type": "stream",
     "text": [
      "Input Career Category xxx\n"
     ]
    },
    {
     "name": "stdout",
     "output_type": "stream",
     "text": [
      "xxx added \n",
      "\n",
      "                count y_career_category\n",
      "EliteDangerous  12159               xxx\n"
     ]
    },
    {
     "name": "stdin",
     "output_type": "stream",
     "text": [
      "Input Career Category xxx\n"
     ]
    },
    {
     "name": "stdout",
     "output_type": "stream",
     "text": [
      "xxx added \n",
      "\n",
      "         count y_career_category\n",
      "Bitcoin  12091               xxx\n"
     ]
    },
    {
     "name": "stdin",
     "output_type": "stream",
     "text": [
      "Input Career Category xxx\n"
     ]
    },
    {
     "name": "stdout",
     "output_type": "stream",
     "text": [
      "xxx added \n",
      "\n",
      "       count y_career_category\n",
      "books  11987               xxx\n"
     ]
    },
    {
     "name": "stdin",
     "output_type": "stream",
     "text": [
      "Input Career Category xxx\n"
     ]
    },
    {
     "name": "stdout",
     "output_type": "stream",
     "text": [
      "xxx added \n",
      "\n",
      "          count y_career_category\n",
      "counting  11977               xxx\n"
     ]
    },
    {
     "name": "stdin",
     "output_type": "stream",
     "text": [
      "Input Career Category xxx\n"
     ]
    },
    {
     "name": "stdout",
     "output_type": "stream",
     "text": [
      "xxx added \n",
      "\n",
      "                   count y_career_category\n",
      "TrollXChromosomes  11780               xxx\n"
     ]
    },
    {
     "name": "stdin",
     "output_type": "stream",
     "text": [
      "Input Career Category xxx\n"
     ]
    },
    {
     "name": "stdout",
     "output_type": "stream",
     "text": [
      "xxx added \n",
      "\n",
      "     count y_career_category\n",
      "Eve  11759               xxx\n"
     ]
    },
    {
     "name": "stdin",
     "output_type": "stream",
     "text": [
      "Input Career Category xxx\n"
     ]
    },
    {
     "name": "stdout",
     "output_type": "stream",
     "text": [
      "xxx added \n",
      "\n",
      "             count y_career_category\n",
      "pathofexile  11514               xxx\n"
     ]
    },
    {
     "name": "stdin",
     "output_type": "stream",
     "text": [
      "Input Career Category xxx\n"
     ]
    },
    {
     "name": "stdout",
     "output_type": "stream",
     "text": [
      "xxx added \n",
      "\n",
      "                       count y_career_category\n",
      "Random_Acts_Of_Amazon  11480               xxx\n"
     ]
    },
    {
     "name": "stdin",
     "output_type": "stream",
     "text": [
      "Input Career Category xxx\n"
     ]
    },
    {
     "name": "stdout",
     "output_type": "stream",
     "text": [
      "xxx added \n",
      "\n",
      "         count y_career_category\n",
      "xboxone  11402               xxx\n"
     ]
    },
    {
     "name": "stdin",
     "output_type": "stream",
     "text": [
      "Input Career Category xxx\n"
     ]
    },
    {
     "name": "stdout",
     "output_type": "stream",
     "text": [
      "xxx added \n",
      "\n",
      "              count y_career_category\n",
      "Christianity  11389               xxx\n"
     ]
    },
    {
     "name": "stdin",
     "output_type": "stream",
     "text": [
      "Input Career Category xxx\n"
     ]
    },
    {
     "name": "stdout",
     "output_type": "stream",
     "text": [
      "xxx added \n",
      "\n",
      "      count y_career_category\n",
      "cars  11381               xxx\n"
     ]
    },
    {
     "name": "stdin",
     "output_type": "stream",
     "text": [
      "Input Career Category xxx\n"
     ]
    },
    {
     "name": "stdout",
     "output_type": "stream",
     "text": [
      "xxx added \n",
      "\n",
      "         count y_career_category\n",
      "OkCupid  11017               xxx\n"
     ]
    },
    {
     "name": "stdin",
     "output_type": "stream",
     "text": [
      "Input Career Category xxx\n"
     ]
    },
    {
     "name": "stdout",
     "output_type": "stream",
     "text": [
      "xxx added \n",
      "\n",
      "            count y_career_category\n",
      "Guildwars2  10902               xxx\n"
     ]
    },
    {
     "name": "stdin",
     "output_type": "stream",
     "text": [
      "Input Career Category xxx\n"
     ]
    },
    {
     "name": "stdout",
     "output_type": "stream",
     "text": [
      "xxx added \n",
      "\n",
      "           count y_career_category\n",
      "teenagers  10805               xxx\n"
     ]
    },
    {
     "name": "stdin",
     "output_type": "stream",
     "text": [
      "Input Career Category xxx\n"
     ]
    },
    {
     "name": "stdout",
     "output_type": "stream",
     "text": [
      "xxx added \n",
      "\n",
      "               count y_career_category\n",
      "MonsterHunter  10772               xxx\n"
     ]
    },
    {
     "name": "stdin",
     "output_type": "stream",
     "text": [
      "Input Career Category xxx\n"
     ]
    },
    {
     "name": "stdout",
     "output_type": "stream",
     "text": [
      "xxx added \n",
      "\n",
      "     count y_career_category\n",
      "PS4  10587               xxx\n"
     ]
    },
    {
     "name": "stdin",
     "output_type": "stream",
     "text": [
      "Input Career Category xxx\n"
     ]
    },
    {
     "name": "stdout",
     "output_type": "stream",
     "text": [
      "xxx added \n",
      "\n",
      "               count y_career_category\n",
      "unitedkingdom  10557               xxx\n"
     ]
    },
    {
     "name": "stdin",
     "output_type": "stream",
     "text": [
      "Input Career Category xxx\n"
     ]
    },
    {
     "name": "stdout",
     "output_type": "stream",
     "text": [
      "xxx added \n",
      "\n",
      "               count y_career_category\n",
      "pokemontrades  10486               xxx\n"
     ]
    },
    {
     "name": "stdin",
     "output_type": "stream",
     "text": [
      "Input Career Category xxx\n"
     ]
    },
    {
     "name": "stdout",
     "output_type": "stream",
     "text": [
      "xxx added \n",
      "\n",
      "            count y_career_category\n",
      "television  10462               xxx\n"
     ]
    },
    {
     "name": "stdin",
     "output_type": "stream",
     "text": [
      "Input Career Category xxx\n"
     ]
    },
    {
     "name": "stdout",
     "output_type": "stream",
     "text": [
      "xxx added \n",
      "\n",
      "             count y_career_category\n",
      "nottheonion  10410               xxx\n"
     ]
    },
    {
     "name": "stdin",
     "output_type": "stream",
     "text": [
      "Input Career Category xxx\n"
     ]
    },
    {
     "name": "stdout",
     "output_type": "stream",
     "text": [
      "xxx added \n",
      "\n",
      "             count y_career_category\n",
      "motorcycles  10384               xxx\n"
     ]
    },
    {
     "name": "stdin",
     "output_type": "stream",
     "text": [
      "Input Career Category xxx\n"
     ]
    },
    {
     "name": "stdout",
     "output_type": "stream",
     "text": [
      "xxx added \n",
      "\n",
      "              count y_career_category\n",
      "summonerswar  10356               xxx\n"
     ]
    },
    {
     "name": "stdin",
     "output_type": "stream",
     "text": [
      "Input Career Category xxx\n"
     ]
    },
    {
     "name": "stdout",
     "output_type": "stream",
     "text": [
      "xxx added \n",
      "\n",
      "        count y_career_category\n",
      "Marvel  10325               xxx\n"
     ]
    },
    {
     "name": "stdin",
     "output_type": "stream",
     "text": [
      "Input Career Category xxx\n"
     ]
    },
    {
     "name": "stdout",
     "output_type": "stream",
     "text": [
      "xxx added \n",
      "\n",
      "            count y_career_category\n",
      "ukpolitics  10215               xxx\n"
     ]
    },
    {
     "name": "stdin",
     "output_type": "stream",
     "text": [
      "Input Career Category politics\n"
     ]
    },
    {
     "name": "stdout",
     "output_type": "stream",
     "text": [
      "politics added \n",
      "\n",
      "          count y_career_category\n",
      "StarWars  10212               xxx\n"
     ]
    },
    {
     "name": "stdin",
     "output_type": "stream",
     "text": [
      "Input Career Category xxx\n"
     ]
    },
    {
     "name": "stdout",
     "output_type": "stream",
     "text": [
      "xxx added \n",
      "\n",
      "                 count y_career_category\n",
      "Pokemongiveaway  10211               xxx\n"
     ]
    },
    {
     "name": "stdin",
     "output_type": "stream",
     "text": [
      "Input Career Category xxx\n"
     ]
    },
    {
     "name": "stdout",
     "output_type": "stream",
     "text": [
      "xxx added \n",
      "\n",
      "                  count y_career_category\n",
      "heroesofthestorm  10126               xxx\n"
     ]
    },
    {
     "name": "stdin",
     "output_type": "stream",
     "text": [
      "Input Career Category xxx\n"
     ]
    },
    {
     "name": "stdout",
     "output_type": "stream",
     "text": [
      "xxx added \n",
      "\n",
      "      count y_career_category\n",
      "FIFA   9601               xxx\n"
     ]
    },
    {
     "name": "stdin",
     "output_type": "stream",
     "text": [
      "Input Career Category sports\n"
     ]
    },
    {
     "name": "stdout",
     "output_type": "stream",
     "text": [
      "sports added \n",
      "\n",
      "           count y_career_category\n",
      "runescape   9564               xxx\n"
     ]
    },
    {
     "name": "stdin",
     "output_type": "stream",
     "text": [
      "Input Career Category xxx\n"
     ]
    },
    {
     "name": "stdout",
     "output_type": "stream",
     "text": [
      "xxx added \n",
      "\n",
      "     count y_career_category\n",
      "tf2   9463               xxx\n"
     ]
    },
    {
     "name": "stdin",
     "output_type": "stream",
     "text": [
      "Input Career Category xxx\n"
     ]
    },
    {
     "name": "stdout",
     "output_type": "stream",
     "text": [
      "xxx added \n",
      "\n",
      "        count y_career_category\n",
      "europe   9423               xxx\n"
     ]
    },
    {
     "name": "stdin",
     "output_type": "stream",
     "text": [
      "Input Career Category xxx\n"
     ]
    },
    {
     "name": "stdout",
     "output_type": "stream",
     "text": [
      "xxx added \n",
      "\n",
      "        count y_career_category\n",
      "NASCAR   9358               xxx\n"
     ]
    },
    {
     "name": "stdin",
     "output_type": "stream",
     "text": [
      "Input Career Category xxx\n"
     ]
    },
    {
     "name": "stdout",
     "output_type": "stream",
     "text": [
      "xxx added \n",
      "\n",
      "           count y_career_category\n",
      "MLPLounge   9218               xxx\n"
     ]
    },
    {
     "name": "stdin",
     "output_type": "stream",
     "text": [
      "Input Career Category xxx\n"
     ]
    },
    {
     "name": "stdout",
     "output_type": "stream",
     "text": [
      "xxx added \n",
      "\n",
      "           count y_career_category\n",
      "childfree   9175               xxx\n"
     ]
    },
    {
     "name": "stdin",
     "output_type": "stream",
     "text": [
      "Input Career Category xxx\n"
     ]
    },
    {
     "name": "stdout",
     "output_type": "stream",
     "text": [
      "xxx added \n",
      "\n",
      "             count y_career_category\n",
      "LifeProTips   9153               xxx\n"
     ]
    },
    {
     "name": "stdin",
     "output_type": "stream",
     "text": [
      "Input Career Category xxx\n"
     ]
    },
    {
     "name": "stdout",
     "output_type": "stream",
     "text": [
      "xxx added \n",
      "\n",
      "               count y_career_category\n",
      "bravefrontier   9114               xxx\n"
     ]
    },
    {
     "name": "stdin",
     "output_type": "stream",
     "text": [
      "Input Career Category xxx\n"
     ]
    },
    {
     "name": "stdout",
     "output_type": "stream",
     "text": [
      "xxx added \n",
      "\n",
      "         count y_career_category\n",
      "podemos   9075               xxx\n"
     ]
    },
    {
     "name": "stdin",
     "output_type": "stream",
     "text": [
      "Input Career Category xxx\n"
     ]
    },
    {
     "name": "stdout",
     "output_type": "stream",
     "text": [
      "xxx added \n",
      "\n",
      "            count y_career_category\n",
      "DarkSouls2   9068               xxx\n"
     ]
    },
    {
     "name": "stdin",
     "output_type": "stream",
     "text": [
      "Input Career Category xxx\n"
     ]
    },
    {
     "name": "stdout",
     "output_type": "stream",
     "text": [
      "xxx added \n",
      "\n",
      "                     count y_career_category\n",
      "SandersForPresident   9038               xxx\n"
     ]
    },
    {
     "name": "stdin",
     "output_type": "stream",
     "text": [
      "Input Career Category politics\n"
     ]
    },
    {
     "name": "stdout",
     "output_type": "stream",
     "text": [
      "politics added \n",
      "\n",
      "        count y_career_category\n",
      "canada   8831               xxx\n"
     ]
    },
    {
     "name": "stdin",
     "output_type": "stream",
     "text": [
      "Input Career Category xxx\n"
     ]
    },
    {
     "name": "stdout",
     "output_type": "stream",
     "text": [
      "xxx added \n",
      "\n",
      "             count y_career_category\n",
      "legaladvice   8781               xxx\n"
     ]
    },
    {
     "name": "stdin",
     "output_type": "stream",
     "text": [
      "Input Career Category xxx\n"
     ]
    },
    {
     "name": "stdout",
     "output_type": "stream",
     "text": [
      "xxx added \n",
      "\n",
      "                     count y_career_category\n",
      "fivenightsatfreddys   8632               xxx\n"
     ]
    },
    {
     "name": "stdin",
     "output_type": "stream",
     "text": [
      "Input Career Category xxx\n"
     ]
    },
    {
     "name": "stdout",
     "output_type": "stream",
     "text": [
      "xxx added \n",
      "\n",
      "     count y_career_category\n",
      "sex   8489               xxx\n"
     ]
    },
    {
     "name": "stdin",
     "output_type": "stream",
     "text": [
      "Input Career Category xxx\n"
     ]
    },
    {
     "name": "stdout",
     "output_type": "stream",
     "text": [
      "xxx added \n",
      "\n",
      "        count y_career_category\n",
      "sports   8333               xxx\n"
     ]
    },
    {
     "name": "stdin",
     "output_type": "stream",
     "text": [
      "Input Career Category sports\n"
     ]
    },
    {
     "name": "stdout",
     "output_type": "stream",
     "text": [
      "sports added \n",
      "\n",
      "           count y_career_category\n",
      "australia   8328               xxx\n"
     ]
    },
    {
     "name": "stdin",
     "output_type": "stream",
     "text": [
      "Input Career Category xxx\n"
     ]
    },
    {
     "name": "stdout",
     "output_type": "stream",
     "text": [
      "xxx added \n",
      "\n",
      "              count y_career_category\n",
      "MortalKombat   8253               xxx\n"
     ]
    },
    {
     "name": "stdin",
     "output_type": "stream",
     "text": [
      "Input Career Category xxx\n"
     ]
    },
    {
     "name": "stdout",
     "output_type": "stream",
     "text": [
      "xxx added \n",
      "\n",
      "                   count y_career_category\n",
      "malefashionadvice   8253               xxx\n"
     ]
    },
    {
     "name": "stdin",
     "output_type": "stream",
     "text": [
      "Input Career Category xxx\n"
     ]
    },
    {
     "name": "stdout",
     "output_type": "stream",
     "text": [
      "xxx added \n",
      "\n",
      "                    count y_career_category\n",
      "BlackPeopleTwitter   8234               xxx\n"
     ]
    },
    {
     "name": "stdin",
     "output_type": "stream",
     "text": [
      "Input Career Category xxx\n"
     ]
    },
    {
     "name": "stdout",
     "output_type": "stream",
     "text": [
      "xxx added \n",
      "\n",
      "       count y_career_category\n",
      "Jokes   8126               xxx\n"
     ]
    },
    {
     "name": "stdin",
     "output_type": "stream",
     "text": [
      "Input Career Category xxx\n"
     ]
    },
    {
     "name": "stdout",
     "output_type": "stream",
     "text": [
      "xxx added \n",
      "\n",
      "       count y_career_category\n",
      "NoFap   8106               xxx\n"
     ]
    },
    {
     "name": "stdin",
     "output_type": "stream",
     "text": [
      "Input Career Category xxx\n"
     ]
    },
    {
     "name": "stdout",
     "output_type": "stream",
     "text": [
      "xxx added \n",
      "\n",
      "            count y_career_category\n",
      "Planetside   8050               xxx\n"
     ]
    },
    {
     "name": "stdin",
     "output_type": "stream",
     "text": [
      "Input Career Category xxx\n"
     ]
    },
    {
     "name": "stdout",
     "output_type": "stream",
     "text": [
      "xxx added \n",
      "\n",
      "     count y_career_category\n",
      "MLS   8035               xxx\n"
     ]
    },
    {
     "name": "stdin",
     "output_type": "stream",
     "text": [
      "Input Career Category xxx\n"
     ]
    },
    {
     "name": "stdout",
     "output_type": "stream",
     "text": [
      "xxx added \n",
      "\n",
      "           count y_career_category\n",
      "Cardinals   7970               xxx\n"
     ]
    },
    {
     "name": "stdin",
     "output_type": "stream",
     "text": [
      "Input Career Category xxx\n"
     ]
    },
    {
     "name": "stdout",
     "output_type": "stream",
     "text": [
      "xxx added \n",
      "\n",
      "       count y_career_category\n",
      "Drugs   7914               xxx\n"
     ]
    },
    {
     "name": "stdin",
     "output_type": "stream",
     "text": [
      "Input Career Category xxx\n"
     ]
    },
    {
     "name": "stdout",
     "output_type": "stream",
     "text": [
      "xxx added \n",
      "\n",
      "      count y_career_category\n",
      "h1z1   7873               xxx\n"
     ]
    },
    {
     "name": "stdin",
     "output_type": "stream",
     "text": [
      "Input Career Category xxx\n"
     ]
    },
    {
     "name": "stdout",
     "output_type": "stream",
     "text": [
      "xxx added \n",
      "\n",
      "      count y_career_category\n",
      "guns   7853               xxx\n"
     ]
    },
    {
     "name": "stdin",
     "output_type": "stream",
     "text": [
      "Input Career Category xxx\n"
     ]
    },
    {
     "name": "stdout",
     "output_type": "stream",
     "text": [
      "xxx added \n",
      "\n",
      "           count y_career_category\n",
      "starcraft   7836               xxx\n"
     ]
    },
    {
     "name": "stdin",
     "output_type": "stream",
     "text": [
      "Input Career Category xxx\n"
     ]
    },
    {
     "name": "stdout",
     "output_type": "stream",
     "text": [
      "xxx added \n",
      "\n",
      "        count y_career_category\n",
      "XMenRP   7798               xxx\n"
     ]
    },
    {
     "name": "stdin",
     "output_type": "stream",
     "text": [
      "Input Career Category xxx\n"
     ]
    },
    {
     "name": "stdout",
     "output_type": "stream",
     "text": [
      "xxx added \n",
      "\n",
      "            count y_career_category\n",
      "comicbooks   7785               xxx\n"
     ]
    },
    {
     "name": "stdin",
     "output_type": "stream",
     "text": [
      "Input Career Category xxx\n"
     ]
    },
    {
     "name": "stdout",
     "output_type": "stream",
     "text": [
      "xxx added \n",
      "\n",
      "              count y_career_category\n",
      "changemyview   7755               xxx\n"
     ]
    },
    {
     "name": "stdin",
     "output_type": "stream",
     "text": [
      "Input Career Category xxx\n"
     ]
    },
    {
     "name": "stdout",
     "output_type": "stream",
     "text": [
      "xxx added \n",
      "\n",
      "            count y_career_category\n",
      "Futurology   7750               xxx\n"
     ]
    },
    {
     "name": "stdin",
     "output_type": "stream",
     "text": [
      "Input Career Category xxx\n"
     ]
    },
    {
     "name": "stdout",
     "output_type": "stream",
     "text": [
      "xxx added \n",
      "\n",
      "       count y_career_category\n",
      "4chan   7720               xxx\n"
     ]
    },
    {
     "name": "stdin",
     "output_type": "stream",
     "text": [
      "Input Career Category xxx\n"
     ]
    },
    {
     "name": "stdout",
     "output_type": "stream",
     "text": [
      "xxx added \n",
      "\n",
      "          count y_career_category\n",
      "fatlogic   7644               xxx\n"
     ]
    },
    {
     "name": "stdin",
     "output_type": "stream",
     "text": [
      "Input Career Category xxx\n"
     ]
    },
    {
     "name": "stdout",
     "output_type": "stream",
     "text": [
      "xxx added \n",
      "\n",
      "            count y_career_category\n",
      "AppleWatch   7622               xxx\n"
     ]
    },
    {
     "name": "stdin",
     "output_type": "stream",
     "text": [
      "Input Career Category fitness\n"
     ]
    },
    {
     "name": "stdout",
     "output_type": "stream",
     "text": [
      "fitness added \n",
      "\n",
      "          count y_career_category\n",
      "exmormon   7579               xxx\n"
     ]
    },
    {
     "name": "stdin",
     "output_type": "stream",
     "text": [
      "Input Career Category xxx\n"
     ]
    },
    {
     "name": "stdout",
     "output_type": "stream",
     "text": [
      "xxx added \n",
      "\n",
      "              count y_career_category\n",
      "ClashOfClans   7564               xxx\n"
     ]
    },
    {
     "name": "stdin",
     "output_type": "stream",
     "text": [
      "Input Career Category xxx\n"
     ]
    },
    {
     "name": "stdout",
     "output_type": "stream",
     "text": [
      "xxx added \n",
      "\n",
      "       count y_career_category\n",
      "apple   7546               xxx\n"
     ]
    },
    {
     "name": "stdin",
     "output_type": "stream",
     "text": [
      "Input Career Category xxx\n"
     ]
    },
    {
     "name": "stdout",
     "output_type": "stream",
     "text": [
      "xxx added \n",
      "\n",
      "           count y_career_category\n",
      "reddevils   7341               xxx\n"
     ]
    },
    {
     "name": "stdin",
     "output_type": "stream",
     "text": [
      "Input Career Category xxx\n"
     ]
    },
    {
     "name": "stdout",
     "output_type": "stream",
     "text": [
      "xxx added \n",
      "\n",
      "      count y_career_category\n",
      "RWBY   7335               xxx\n"
     ]
    },
    {
     "name": "stdin",
     "output_type": "stream",
     "text": [
      "Input Career Category xxx\n"
     ]
    },
    {
     "name": "stdout",
     "output_type": "stream",
     "text": [
      "xxx added \n",
      "\n",
      "         count y_career_category\n",
      "pokemon   7333               xxx\n"
     ]
    },
    {
     "name": "stdin",
     "output_type": "stream",
     "text": [
      "Input Career Category xxx\n"
     ]
    },
    {
     "name": "stdout",
     "output_type": "stream",
     "text": [
      "xxx added \n",
      "\n",
      "             count y_career_category\n",
      "starcitizen   7331               xxx\n"
     ]
    },
    {
     "name": "stdin",
     "output_type": "stream",
     "text": [
      "Input Career Category xxx\n"
     ]
    },
    {
     "name": "stdout",
     "output_type": "stream",
     "text": [
      "xxx added \n",
      "\n",
      "                count y_career_category\n",
      "summonerschool   7330               xxx\n"
     ]
    },
    {
     "name": "stdin",
     "output_type": "stream",
     "text": [
      "Input Career Category xxx\n"
     ]
    },
    {
     "name": "stdout",
     "output_type": "stream",
     "text": [
      "xxx added \n",
      "\n",
      "         count y_career_category\n",
      "Gunners   7079               xxx\n"
     ]
    },
    {
     "name": "stdin",
     "output_type": "stream",
     "text": [
      "Input Career Category xxx\n"
     ]
    },
    {
     "name": "stdout",
     "output_type": "stream",
     "text": [
      "xxx added \n",
      "\n",
      "     count y_career_category\n",
      "nrl   7073               xxx\n"
     ]
    },
    {
     "name": "stdin",
     "output_type": "stream",
     "text": [
      "Input Career Category xxx\n"
     ]
    },
    {
     "name": "stdout",
     "output_type": "stream",
     "text": [
      "xxx added \n",
      "\n",
      "                   count y_career_category\n",
      "interestingasfuck   6965               xxx\n"
     ]
    },
    {
     "name": "stdin",
     "output_type": "stream",
     "text": [
      "Input Career Category xxx\n"
     ]
    },
    {
     "name": "stdout",
     "output_type": "stream",
     "text": [
      "xxx added \n",
      "\n",
      "           count y_career_category\n",
      "jailbreak   6936               xxx\n"
     ]
    },
    {
     "name": "stdin",
     "output_type": "stream",
     "text": [
      "Input Career Category xxx\n"
     ]
    },
    {
     "name": "stdout",
     "output_type": "stream",
     "text": [
      "xxx added \n",
      "\n",
      "                 count y_career_category\n",
      "dataisbeautiful   6895               xxx\n"
     ]
    },
    {
     "name": "stdin",
     "output_type": "stream",
     "text": [
      "Input Career Category xxx\n"
     ]
    },
    {
     "name": "stdout",
     "output_type": "stream",
     "text": [
      "xxx added \n",
      "\n",
      "            count y_career_category\n",
      "Warthunder   6894               xxx\n"
     ]
    },
    {
     "name": "stdin",
     "output_type": "stream",
     "text": [
      "Input Career Category xxx\n"
     ]
    },
    {
     "name": "stdout",
     "output_type": "stream",
     "text": [
      "xxx added \n",
      "\n",
      "         count y_career_category\n",
      "science   6822               xxx\n"
     ]
    },
    {
     "name": "stdin",
     "output_type": "stream",
     "text": [
      "Input Career Category science_technology\n"
     ]
    },
    {
     "name": "stdout",
     "output_type": "stream",
     "text": [
      "science_technology added \n",
      "\n",
      "              count y_career_category\n",
      "bodybuilding   6803               xxx\n"
     ]
    },
    {
     "name": "stdin",
     "output_type": "stream",
     "text": [
      "Input Career Category fitness\n"
     ]
    },
    {
     "name": "stdout",
     "output_type": "stream",
     "text": [
      "fitness added \n",
      "\n",
      "            count y_career_category\n",
      "SVExchange   6789               xxx\n"
     ]
    },
    {
     "name": "stdin",
     "output_type": "stream",
     "text": [
      "Input Career Category xxx\n"
     ]
    },
    {
     "name": "stdout",
     "output_type": "stream",
     "text": [
      "xxx added \n",
      "\n",
      "         count y_career_category\n",
      "toronto   6783               xxx\n"
     ]
    },
    {
     "name": "stdin",
     "output_type": "stream",
     "text": [
      "Input Career Category xxx\n"
     ]
    },
    {
     "name": "stdout",
     "output_type": "stream",
     "text": [
      "xxx added \n",
      "\n",
      "                  count   y_career_category\n",
      "leagueoflegends  132818                 xxx\n",
      "nba               89358                 xxx\n",
      "nfl               83873                 xxx\n",
      "news              76245                 xxx\n",
      "DotA2             66729                 xxx\n",
      "...                 ...                 ...\n",
      "Warthunder         6894                 xxx\n",
      "science            6822  science_technology\n",
      "bodybuilding       6803             fitness\n",
      "SVExchange         6789                 xxx\n",
      "toronto            6783                 xxx\n",
      "\n",
      "[147 rows x 2 columns] \n",
      "\n",
      "Error in the following categories: []\n"
     ]
    }
   ],
   "source": [
    "# Calling function on a small df\n",
    "label_subreddit(subreddit, index)"
   ]
  },
  {
   "cell_type": "code",
   "execution_count": 211,
   "metadata": {},
   "outputs": [
    {
     "name": "stdout",
     "output_type": "stream",
     "text": [
      "                    count\n",
      "y_career_category        \n",
      "fitness             34564\n",
      "games               56195\n",
      "politics            50812\n",
      "science_technology  56508\n",
      "sports              69181\n",
      "                        count\n",
      "y_career_category            \n",
      "fitness             12.932725\n",
      "games               21.026341\n",
      "politics            19.012198\n",
      "science_technology  21.143456\n",
      "sports              25.885280\n"
     ]
    }
   ],
   "source": [
    "#looking at the number of rows in each category\n",
    "print(subreddit.groupby(['y_career_category']).sum())\n",
    "\n",
    "# checking the percentage composition\n",
    "print(subreddit.groupby(['y_career_category']).sum() / subreddit.sum()[0]*100)"
   ]
  },
  {
   "cell_type": "code",
   "execution_count": 214,
   "metadata": {},
   "outputs": [],
   "source": [
    "subreddit.drop(subreddit[subreddit['y_career_category'] == 'xxx'].index, axis=0, inplace=True)"
   ]
  },
  {
   "cell_type": "markdown",
   "metadata": {},
   "source": [
    "#### Step 2 : Merging the datasets "
   ]
  },
  {
   "cell_type": "markdown",
   "metadata": {},
   "source": [
    "The plan of action will be:\n",
    "\n",
    "1. Create numeric y categories \n",
    "2. Merging the two dataframes to get the labeled y cateogories with text body"
   ]
  },
  {
   "cell_type": "code",
   "execution_count": 223,
   "metadata": {
    "scrolled": true
   },
   "outputs": [
    {
     "data": {
      "text/html": [
       "<div>\n",
       "<style scoped>\n",
       "    .dataframe tbody tr th:only-of-type {\n",
       "        vertical-align: middle;\n",
       "    }\n",
       "\n",
       "    .dataframe tbody tr th {\n",
       "        vertical-align: top;\n",
       "    }\n",
       "\n",
       "    .dataframe thead th {\n",
       "        text-align: right;\n",
       "    }\n",
       "</style>\n",
       "<table border=\"1\" class=\"dataframe\">\n",
       "  <thead>\n",
       "    <tr style=\"text-align: right;\">\n",
       "      <th></th>\n",
       "      <th>count</th>\n",
       "      <th>y_career_category</th>\n",
       "      <th>coded_category</th>\n",
       "    </tr>\n",
       "  </thead>\n",
       "  <tbody>\n",
       "    <tr>\n",
       "      <th>soccer</th>\n",
       "      <td>51247</td>\n",
       "      <td>sports</td>\n",
       "      <td>4</td>\n",
       "    </tr>\n",
       "    <tr>\n",
       "      <th>gaming</th>\n",
       "      <td>40804</td>\n",
       "      <td>games</td>\n",
       "      <td>1</td>\n",
       "    </tr>\n",
       "    <tr>\n",
       "      <th>politics</th>\n",
       "      <td>31559</td>\n",
       "      <td>politics</td>\n",
       "      <td>2</td>\n",
       "    </tr>\n",
       "    <tr>\n",
       "      <th>Fitness</th>\n",
       "      <td>20139</td>\n",
       "      <td>fitness</td>\n",
       "      <td>0</td>\n",
       "    </tr>\n",
       "    <tr>\n",
       "      <th>buildapc</th>\n",
       "      <td>18174</td>\n",
       "      <td>science_technology</td>\n",
       "      <td>3</td>\n",
       "    </tr>\n",
       "    <tr>\n",
       "      <th>technology</th>\n",
       "      <td>17699</td>\n",
       "      <td>science_technology</td>\n",
       "      <td>3</td>\n",
       "    </tr>\n",
       "    <tr>\n",
       "      <th>Games</th>\n",
       "      <td>15391</td>\n",
       "      <td>games</td>\n",
       "      <td>1</td>\n",
       "    </tr>\n",
       "    <tr>\n",
       "      <th>Android</th>\n",
       "      <td>13813</td>\n",
       "      <td>science_technology</td>\n",
       "      <td>3</td>\n",
       "    </tr>\n",
       "    <tr>\n",
       "      <th>ukpolitics</th>\n",
       "      <td>10215</td>\n",
       "      <td>politics</td>\n",
       "      <td>2</td>\n",
       "    </tr>\n",
       "    <tr>\n",
       "      <th>FIFA</th>\n",
       "      <td>9601</td>\n",
       "      <td>sports</td>\n",
       "      <td>4</td>\n",
       "    </tr>\n",
       "    <tr>\n",
       "      <th>SandersForPresident</th>\n",
       "      <td>9038</td>\n",
       "      <td>politics</td>\n",
       "      <td>2</td>\n",
       "    </tr>\n",
       "    <tr>\n",
       "      <th>sports</th>\n",
       "      <td>8333</td>\n",
       "      <td>sports</td>\n",
       "      <td>4</td>\n",
       "    </tr>\n",
       "    <tr>\n",
       "      <th>AppleWatch</th>\n",
       "      <td>7622</td>\n",
       "      <td>fitness</td>\n",
       "      <td>0</td>\n",
       "    </tr>\n",
       "    <tr>\n",
       "      <th>science</th>\n",
       "      <td>6822</td>\n",
       "      <td>science_technology</td>\n",
       "      <td>3</td>\n",
       "    </tr>\n",
       "    <tr>\n",
       "      <th>bodybuilding</th>\n",
       "      <td>6803</td>\n",
       "      <td>fitness</td>\n",
       "      <td>0</td>\n",
       "    </tr>\n",
       "  </tbody>\n",
       "</table>\n",
       "</div>"
      ],
      "text/plain": [
       "                     count   y_career_category  coded_category\n",
       "soccer               51247              sports               4\n",
       "gaming               40804               games               1\n",
       "politics             31559            politics               2\n",
       "Fitness              20139             fitness               0\n",
       "buildapc             18174  science_technology               3\n",
       "technology           17699  science_technology               3\n",
       "Games                15391               games               1\n",
       "Android              13813  science_technology               3\n",
       "ukpolitics           10215            politics               2\n",
       "FIFA                  9601              sports               4\n",
       "SandersForPresident   9038            politics               2\n",
       "sports                8333              sports               4\n",
       "AppleWatch            7622             fitness               0\n",
       "science               6822  science_technology               3\n",
       "bodybuilding          6803             fitness               0"
      ]
     },
     "execution_count": 223,
     "metadata": {},
     "output_type": "execute_result"
    }
   ],
   "source": [
    "from sklearn.preprocessing import LabelEncoder\n",
    "\n",
    "# Instantiating the encoder:\n",
    "my_encoder = LabelEncoder()\n",
    "\n",
    "# Fitting the encoder with the labels from 'y_career_category':\n",
    "subreddit['coded_category'] = my_encoder.fit_transform(subreddit['y_career_category'])\n",
    "subreddit"
   ]
  },
  {
   "cell_type": "code",
   "execution_count": 225,
   "metadata": {},
   "outputs": [
    {
     "name": "stdout",
     "output_type": "stream",
     "text": [
      "0: fitness\n",
      "1: games\n",
      "2: politics\n",
      "3: science_technology\n",
      "4: sports\n"
     ]
    }
   ],
   "source": [
    "# Verifying the encoding:\n",
    "for i, j in enumerate(my_encoder.classes_):\n",
    "    print(f'{i}: {j}')"
   ]
  },
  {
   "cell_type": "code",
   "execution_count": 226,
   "metadata": {},
   "outputs": [
    {
     "data": {
      "text/plain": [
       "[]"
      ]
     },
     "execution_count": 226,
     "metadata": {},
     "output_type": "execute_result"
    }
   ],
   "source": [
    "# error_ category and career_category are global lists within the function\n",
    "error_category"
   ]
  },
  {
   "cell_type": "code",
   "execution_count": 227,
   "metadata": {},
   "outputs": [
    {
     "data": {
      "text/html": [
       "<div>\n",
       "<style scoped>\n",
       "    .dataframe tbody tr th:only-of-type {\n",
       "        vertical-align: middle;\n",
       "    }\n",
       "\n",
       "    .dataframe tbody tr th {\n",
       "        vertical-align: top;\n",
       "    }\n",
       "\n",
       "    .dataframe thead th {\n",
       "        text-align: right;\n",
       "    }\n",
       "</style>\n",
       "<table border=\"1\" class=\"dataframe\">\n",
       "  <thead>\n",
       "    <tr style=\"text-align: right;\">\n",
       "      <th></th>\n",
       "      <th>topic</th>\n",
       "      <th>count</th>\n",
       "      <th>y_career_category</th>\n",
       "      <th>coded_category</th>\n",
       "    </tr>\n",
       "  </thead>\n",
       "  <tbody>\n",
       "    <tr>\n",
       "      <th>0</th>\n",
       "      <td>soccer</td>\n",
       "      <td>51247</td>\n",
       "      <td>sports</td>\n",
       "      <td>4</td>\n",
       "    </tr>\n",
       "    <tr>\n",
       "      <th>1</th>\n",
       "      <td>gaming</td>\n",
       "      <td>40804</td>\n",
       "      <td>games</td>\n",
       "      <td>1</td>\n",
       "    </tr>\n",
       "    <tr>\n",
       "      <th>2</th>\n",
       "      <td>politics</td>\n",
       "      <td>31559</td>\n",
       "      <td>politics</td>\n",
       "      <td>2</td>\n",
       "    </tr>\n",
       "  </tbody>\n",
       "</table>\n",
       "</div>"
      ],
      "text/plain": [
       "      topic  count y_career_category  coded_category\n",
       "0    soccer  51247            sports               4\n",
       "1    gaming  40804             games               1\n",
       "2  politics  31559          politics               2"
      ]
     },
     "execution_count": 227,
     "metadata": {},
     "output_type": "execute_result"
    }
   ],
   "source": [
    "# cleaning the subreddit df\n",
    "\n",
    "subreddit.reset_index(inplace=True)\n",
    "# subreddit.drop(['level_0'], axis=1, inplace=True)\n",
    "subreddit.rename(columns={'index':'topic', 'y_career_category':'y_career_category', 'coded_category': 'coded_category'}, inplace=True)\n",
    "subreddit.head(3)"
   ]
  },
  {
   "cell_type": "code",
   "execution_count": 228,
   "metadata": {},
   "outputs": [
    {
     "data": {
      "text/html": [
       "<div>\n",
       "<style scoped>\n",
       "    .dataframe tbody tr th:only-of-type {\n",
       "        vertical-align: middle;\n",
       "    }\n",
       "\n",
       "    .dataframe tbody tr th {\n",
       "        vertical-align: top;\n",
       "    }\n",
       "\n",
       "    .dataframe thead th {\n",
       "        text-align: right;\n",
       "    }\n",
       "</style>\n",
       "<table border=\"1\" class=\"dataframe\">\n",
       "  <thead>\n",
       "    <tr style=\"text-align: right;\">\n",
       "      <th></th>\n",
       "      <th>created_utc</th>\n",
       "      <th>ups</th>\n",
       "      <th>subreddit_id</th>\n",
       "      <th>link_id</th>\n",
       "      <th>name</th>\n",
       "      <th>subreddit</th>\n",
       "      <th>id</th>\n",
       "      <th>gilded</th>\n",
       "      <th>downs</th>\n",
       "      <th>author</th>\n",
       "      <th>retrieved_on</th>\n",
       "      <th>body</th>\n",
       "      <th>edited</th>\n",
       "      <th>controversiality</th>\n",
       "      <th>parent_id</th>\n",
       "      <th>topic</th>\n",
       "      <th>count</th>\n",
       "      <th>y_career_category</th>\n",
       "      <th>coded_category</th>\n",
       "    </tr>\n",
       "  </thead>\n",
       "  <tbody>\n",
       "    <tr>\n",
       "      <th>75951</th>\n",
       "      <td>1430834816</td>\n",
       "      <td>1</td>\n",
       "      <td>t5_2qh03</td>\n",
       "      <td>t3_34xstk</td>\n",
       "      <td>t1_cqz2nzo</td>\n",
       "      <td>gaming</td>\n",
       "      <td>cqz2nzo</td>\n",
       "      <td>0</td>\n",
       "      <td>0</td>\n",
       "      <td>Bluminati</td>\n",
       "      <td>1432783251</td>\n",
       "      <td>Is this the remake of rayman? How does it comp...</td>\n",
       "      <td>0</td>\n",
       "      <td>0</td>\n",
       "      <td>t1_cqz1u1l</td>\n",
       "      <td>gaming</td>\n",
       "      <td>40804</td>\n",
       "      <td>games</td>\n",
       "      <td>1</td>\n",
       "    </tr>\n",
       "    <tr>\n",
       "      <th>25341</th>\n",
       "      <td>1430700503</td>\n",
       "      <td>10</td>\n",
       "      <td>t5_2cneq</td>\n",
       "      <td>t3_34q52b</td>\n",
       "      <td>t1_cqxgkow</td>\n",
       "      <td>politics</td>\n",
       "      <td>cqxgkow</td>\n",
       "      <td>0</td>\n",
       "      <td>0</td>\n",
       "      <td>repmack</td>\n",
       "      <td>1432754928</td>\n",
       "      <td>Clearly circle jerk. You are a teemo support.</td>\n",
       "      <td>0</td>\n",
       "      <td>0</td>\n",
       "      <td>t1_cqxbzam</td>\n",
       "      <td>politics</td>\n",
       "      <td>31559</td>\n",
       "      <td>politics</td>\n",
       "      <td>2</td>\n",
       "    </tr>\n",
       "    <tr>\n",
       "      <th>199923</th>\n",
       "      <td>1430715837</td>\n",
       "      <td>-1</td>\n",
       "      <td>t5_2qhwp</td>\n",
       "      <td>t3_34s5um</td>\n",
       "      <td>t1_cqxorlj</td>\n",
       "      <td>Games</td>\n",
       "      <td>cqxorlj</td>\n",
       "      <td>0</td>\n",
       "      <td>0</td>\n",
       "      <td>pfarly</td>\n",
       "      <td>1432758799</td>\n",
       "      <td>Well considering the PS3 does it I'd say yes.</td>\n",
       "      <td>0</td>\n",
       "      <td>0</td>\n",
       "      <td>t1_cqxomws</td>\n",
       "      <td>Games</td>\n",
       "      <td>15391</td>\n",
       "      <td>games</td>\n",
       "      <td>1</td>\n",
       "    </tr>\n",
       "    <tr>\n",
       "      <th>35286</th>\n",
       "      <td>1430835052</td>\n",
       "      <td>-4</td>\n",
       "      <td>t5_2cneq</td>\n",
       "      <td>t3_34wb7p</td>\n",
       "      <td>t1_cqz2sg0</td>\n",
       "      <td>politics</td>\n",
       "      <td>cqz2sg0</td>\n",
       "      <td>0</td>\n",
       "      <td>0</td>\n",
       "      <td>KeenanKolarik</td>\n",
       "      <td>1432783310</td>\n",
       "      <td>Even though he's wrong and idiotic, it's freed...</td>\n",
       "      <td>0</td>\n",
       "      <td>0</td>\n",
       "      <td>t1_cqyqehl</td>\n",
       "      <td>politics</td>\n",
       "      <td>31559</td>\n",
       "      <td>politics</td>\n",
       "      <td>2</td>\n",
       "    </tr>\n",
       "    <tr>\n",
       "      <th>40370</th>\n",
       "      <td>1430483235</td>\n",
       "      <td>2</td>\n",
       "      <td>t5_2qh03</td>\n",
       "      <td>t3_34gemi</td>\n",
       "      <td>t1_cquxcoa</td>\n",
       "      <td>gaming</td>\n",
       "      <td>cquxcoa</td>\n",
       "      <td>0</td>\n",
       "      <td>0</td>\n",
       "      <td>Halo_likes_me</td>\n",
       "      <td>1432711277</td>\n",
       "      <td>Hes talking competitively and he is right. Any...</td>\n",
       "      <td>0</td>\n",
       "      <td>0</td>\n",
       "      <td>t1_cquskqg</td>\n",
       "      <td>gaming</td>\n",
       "      <td>40804</td>\n",
       "      <td>games</td>\n",
       "      <td>1</td>\n",
       "    </tr>\n",
       "  </tbody>\n",
       "</table>\n",
       "</div>"
      ],
      "text/plain": [
       "        created_utc  ups subreddit_id    link_id        name subreddit  \\\n",
       "75951    1430834816    1     t5_2qh03  t3_34xstk  t1_cqz2nzo    gaming   \n",
       "25341    1430700503   10     t5_2cneq  t3_34q52b  t1_cqxgkow  politics   \n",
       "199923   1430715837   -1     t5_2qhwp  t3_34s5um  t1_cqxorlj     Games   \n",
       "35286    1430835052   -4     t5_2cneq  t3_34wb7p  t1_cqz2sg0  politics   \n",
       "40370    1430483235    2     t5_2qh03  t3_34gemi  t1_cquxcoa    gaming   \n",
       "\n",
       "             id  gilded  downs         author  retrieved_on  \\\n",
       "75951   cqz2nzo       0      0      Bluminati    1432783251   \n",
       "25341   cqxgkow       0      0        repmack    1432754928   \n",
       "199923  cqxorlj       0      0         pfarly    1432758799   \n",
       "35286   cqz2sg0       0      0  KeenanKolarik    1432783310   \n",
       "40370   cquxcoa       0      0  Halo_likes_me    1432711277   \n",
       "\n",
       "                                                     body  edited  \\\n",
       "75951   Is this the remake of rayman? How does it comp...       0   \n",
       "25341       Clearly circle jerk. You are a teemo support.       0   \n",
       "199923      Well considering the PS3 does it I'd say yes.       0   \n",
       "35286   Even though he's wrong and idiotic, it's freed...       0   \n",
       "40370   Hes talking competitively and he is right. Any...       0   \n",
       "\n",
       "        controversiality   parent_id     topic  count y_career_category  \\\n",
       "75951                  0  t1_cqz1u1l    gaming  40804             games   \n",
       "25341                  0  t1_cqxbzam  politics  31559          politics   \n",
       "199923                 0  t1_cqxomws     Games  15391             games   \n",
       "35286                  0  t1_cqyqehl  politics  31559          politics   \n",
       "40370                  0  t1_cquskqg    gaming  40804             games   \n",
       "\n",
       "        coded_category  \n",
       "75951                1  \n",
       "25341                2  \n",
       "199923               1  \n",
       "35286                2  \n",
       "40370                1  "
      ]
     },
     "execution_count": 228,
     "metadata": {},
     "output_type": "execute_result"
    }
   ],
   "source": [
    "# merging the two dfs to have the labels for each row and store it in results\n",
    "result = pd.merge(reddit, subreddit, left_on='subreddit', right_on='topic')\n",
    "result.sample(5)"
   ]
  },
  {
   "cell_type": "code",
   "execution_count": 474,
   "metadata": {},
   "outputs": [
    {
     "data": {
      "text/plain": [
       "(267260, 19)"
      ]
     },
     "execution_count": 474,
     "metadata": {},
     "output_type": "execute_result"
    }
   ],
   "source": [
    "result.shape"
   ]
  },
  {
   "cell_type": "code",
   "execution_count": null,
   "metadata": {},
   "outputs": [],
   "source": [
    "body = list(result['body'])\n",
    "body = nltk.Text(body)\n",
    "FreqDist(body).most_common(20)"
   ]
  },
  {
   "cell_type": "code",
   "execution_count": 523,
   "metadata": {},
   "outputs": [],
   "source": [
    "# removing all comments that have 'automatically removed'\n",
    "result.drop(result[result['body'].str.contains('automatically removed')].index, axis=0, inplace=True)"
   ]
  },
  {
   "cell_type": "code",
   "execution_count": 527,
   "metadata": {},
   "outputs": [],
   "source": [
    "result.drop(result[result['body'].str.contains('submission has been removed')].index, axis=0, inplace=True)"
   ]
  },
  {
   "cell_type": "code",
   "execution_count": 531,
   "metadata": {},
   "outputs": [
    {
     "data": {
      "text/plain": [
       "(265399, 19)"
      ]
     },
     "execution_count": 531,
     "metadata": {},
     "output_type": "execute_result"
    }
   ],
   "source": [
    "result.drop(result[result['body'].str.contains('has been removed')].index, axis=0, inplace=True)\n",
    "result.shape"
   ]
  },
  {
   "cell_type": "code",
   "execution_count": 534,
   "metadata": {},
   "outputs": [
    {
     "data": {
      "text/plain": [
       "(265324, 19)"
      ]
     },
     "execution_count": 534,
     "metadata": {},
     "output_type": "execute_result"
    }
   ],
   "source": [
    "result.drop(result[result['body'].str.contains('Please follow the subreddit rules')].index, axis=0, inplace=True)\n",
    "result.shape"
   ]
  },
  {
   "cell_type": "code",
   "execution_count": 537,
   "metadata": {},
   "outputs": [
    {
     "data": {
      "text/plain": [
       "(265306, 19)"
      ]
     },
     "execution_count": 537,
     "metadata": {},
     "output_type": "execute_result"
    }
   ],
   "source": [
    "result.drop(result[result['body'].str.contains('Inexperienced accounts are assumed to be spam')].index, axis=0, inplace=True)\n",
    "result.shape"
   ]
  },
  {
   "cell_type": "markdown",
   "metadata": {},
   "source": [
    "Using the .most_common method, I identified the most used words and found several auto generated comments regarding post removal with the follwoing words and therefore I removed them"
   ]
  },
  {
   "cell_type": "markdown",
   "metadata": {},
   "source": [
    "#### Step 3: Storing the dataframe as a new table in SQL and csv\n",
    "\n",
    "Plan of action:\n",
    "\n",
    "1. Saving the resultant big dataframe in SQL and csv form."
   ]
  },
  {
   "cell_type": "code",
   "execution_count": 229,
   "metadata": {},
   "outputs": [],
   "source": [
    "# storing the db to SQLite table :)\n",
    "result.to_sql('subreddit', con=sql_conn, if_exists='replace')\n",
    "\n",
    "# saving the db as a csv file\n",
    "result.to_csv('subreddit.csv')"
   ]
  },
  {
   "cell_type": "code",
   "execution_count": 4,
   "metadata": {},
   "outputs": [],
   "source": [
    "# if need be we can import the data and use it ahead by remoing '#' and running the cell\n",
    "result = pd.read_csv('subreddit.csv')"
   ]
  },
  {
   "cell_type": "code",
   "execution_count": 5,
   "metadata": {},
   "outputs": [
    {
     "data": {
      "text/plain": [
       "Index(['Unnamed: 0', 'Unnamed: 0.1', 'created_utc', 'ups', 'subreddit_id',\n",
       "       'link_id', 'name', 'subreddit', 'id', 'gilded', 'downs', 'author',\n",
       "       'retrieved_on', 'body', 'edited', 'controversiality', 'parent_id',\n",
       "       'topic', 'count', 'y_career_category', 'coded_category'],\n",
       "      dtype='object')"
      ]
     },
     "execution_count": 5,
     "metadata": {},
     "output_type": "execute_result"
    }
   ],
   "source": [
    "result.columns"
   ]
  },
  {
   "cell_type": "code",
   "execution_count": 6,
   "metadata": {},
   "outputs": [
    {
     "data": {
      "text/html": [
       "<div>\n",
       "<style scoped>\n",
       "    .dataframe tbody tr th:only-of-type {\n",
       "        vertical-align: middle;\n",
       "    }\n",
       "\n",
       "    .dataframe tbody tr th {\n",
       "        vertical-align: top;\n",
       "    }\n",
       "\n",
       "    .dataframe thead th {\n",
       "        text-align: right;\n",
       "    }\n",
       "</style>\n",
       "<table border=\"1\" class=\"dataframe\">\n",
       "  <thead>\n",
       "    <tr style=\"text-align: right;\">\n",
       "      <th></th>\n",
       "      <th>subreddit</th>\n",
       "      <th>body</th>\n",
       "      <th>topic</th>\n",
       "      <th>count</th>\n",
       "      <th>y_career_category</th>\n",
       "      <th>coded_category</th>\n",
       "    </tr>\n",
       "  </thead>\n",
       "  <tbody>\n",
       "    <tr>\n",
       "      <th>172977</th>\n",
       "      <td>soccer</td>\n",
       "      <td>False: we eventually said \"Let's go around the...</td>\n",
       "      <td>soccer</td>\n",
       "      <td>51247</td>\n",
       "      <td>sports</td>\n",
       "      <td>4</td>\n",
       "    </tr>\n",
       "    <tr>\n",
       "      <th>247941</th>\n",
       "      <td>buildapc</td>\n",
       "      <td>Actually he'd be fine and wouldn't notice a di...</td>\n",
       "      <td>buildapc</td>\n",
       "      <td>18174</td>\n",
       "      <td>science_technology</td>\n",
       "      <td>3</td>\n",
       "    </tr>\n",
       "    <tr>\n",
       "      <th>211179</th>\n",
       "      <td>sports</td>\n",
       "      <td>Pow right in the kisser.</td>\n",
       "      <td>sports</td>\n",
       "      <td>8333</td>\n",
       "      <td>sports</td>\n",
       "      <td>4</td>\n",
       "    </tr>\n",
       "    <tr>\n",
       "      <th>49729</th>\n",
       "      <td>gaming</td>\n",
       "      <td>That thing I just said to Mark was Really Funn...</td>\n",
       "      <td>gaming</td>\n",
       "      <td>40804</td>\n",
       "      <td>games</td>\n",
       "      <td>1</td>\n",
       "    </tr>\n",
       "    <tr>\n",
       "      <th>247506</th>\n",
       "      <td>buildapc</td>\n",
       "      <td>Damn im retarded. Obviously each video card ta...</td>\n",
       "      <td>buildapc</td>\n",
       "      <td>18174</td>\n",
       "      <td>science_technology</td>\n",
       "      <td>3</td>\n",
       "    </tr>\n",
       "  </tbody>\n",
       "</table>\n",
       "</div>"
      ],
      "text/plain": [
       "       subreddit                                               body     topic  \\\n",
       "172977    soccer  False: we eventually said \"Let's go around the...    soccer   \n",
       "247941  buildapc  Actually he'd be fine and wouldn't notice a di...  buildapc   \n",
       "211179    sports                           Pow right in the kisser.    sports   \n",
       "49729     gaming  That thing I just said to Mark was Really Funn...    gaming   \n",
       "247506  buildapc  Damn im retarded. Obviously each video card ta...  buildapc   \n",
       "\n",
       "        count   y_career_category  coded_category  \n",
       "172977  51247              sports               4  \n",
       "247941  18174  science_technology               3  \n",
       "211179   8333              sports               4  \n",
       "49729   40804               games               1  \n",
       "247506  18174  science_technology               3  "
      ]
     },
     "execution_count": 6,
     "metadata": {},
     "output_type": "execute_result"
    }
   ],
   "source": [
    "# creating a working directory with only required columns\n",
    "text_df = result[['subreddit', 'body', 'topic', 'count', 'y_career_category', 'coded_category']]\n",
    "text_df.sample(5)"
   ]
  },
  {
   "cell_type": "code",
   "execution_count": 7,
   "metadata": {},
   "outputs": [
    {
     "data": {
      "text/plain": [
       "0"
      ]
     },
     "execution_count": 7,
     "metadata": {},
     "output_type": "execute_result"
    }
   ],
   "source": [
    "# final check for any deleted 'body'\n",
    "# text_df.drop(tex_df[X.y_career_category =='xxx'].index, axis=0, inplace=True)\n",
    "(text_df['body'] == '[deleted]').sum()"
   ]
  },
  {
   "cell_type": "code",
   "execution_count": 8,
   "metadata": {},
   "outputs": [
    {
     "data": {
      "text/html": [
       "<div>\n",
       "<style scoped>\n",
       "    .dataframe tbody tr th:only-of-type {\n",
       "        vertical-align: middle;\n",
       "    }\n",
       "\n",
       "    .dataframe tbody tr th {\n",
       "        vertical-align: top;\n",
       "    }\n",
       "\n",
       "    .dataframe thead th {\n",
       "        text-align: right;\n",
       "    }\n",
       "</style>\n",
       "<table border=\"1\" class=\"dataframe\">\n",
       "  <thead>\n",
       "    <tr style=\"text-align: right;\">\n",
       "      <th></th>\n",
       "      <th>subreddit</th>\n",
       "      <th>body</th>\n",
       "      <th>topic</th>\n",
       "      <th>count</th>\n",
       "      <th>y_career_category</th>\n",
       "      <th>coded_category</th>\n",
       "    </tr>\n",
       "  </thead>\n",
       "  <tbody>\n",
       "    <tr>\n",
       "      <th>42907</th>\n",
       "      <td>gaming</td>\n",
       "      <td>NaN</td>\n",
       "      <td>gaming</td>\n",
       "      <td>40804</td>\n",
       "      <td>games</td>\n",
       "      <td>1</td>\n",
       "    </tr>\n",
       "    <tr>\n",
       "      <th>128337</th>\n",
       "      <td>Fitness</td>\n",
       "      <td>NaN</td>\n",
       "      <td>Fitness</td>\n",
       "      <td>20139</td>\n",
       "      <td>fitness</td>\n",
       "      <td>0</td>\n",
       "    </tr>\n",
       "    <tr>\n",
       "      <th>128338</th>\n",
       "      <td>Fitness</td>\n",
       "      <td>NaN</td>\n",
       "      <td>Fitness</td>\n",
       "      <td>20139</td>\n",
       "      <td>fitness</td>\n",
       "      <td>0</td>\n",
       "    </tr>\n",
       "    <tr>\n",
       "      <th>128339</th>\n",
       "      <td>Fitness</td>\n",
       "      <td>NaN</td>\n",
       "      <td>Fitness</td>\n",
       "      <td>20139</td>\n",
       "      <td>fitness</td>\n",
       "      <td>0</td>\n",
       "    </tr>\n",
       "    <tr>\n",
       "      <th>128340</th>\n",
       "      <td>Fitness</td>\n",
       "      <td>NaN</td>\n",
       "      <td>Fitness</td>\n",
       "      <td>20139</td>\n",
       "      <td>fitness</td>\n",
       "      <td>0</td>\n",
       "    </tr>\n",
       "    <tr>\n",
       "      <th>128341</th>\n",
       "      <td>Fitness</td>\n",
       "      <td>NaN</td>\n",
       "      <td>Fitness</td>\n",
       "      <td>20139</td>\n",
       "      <td>fitness</td>\n",
       "      <td>0</td>\n",
       "    </tr>\n",
       "    <tr>\n",
       "      <th>128342</th>\n",
       "      <td>Fitness</td>\n",
       "      <td>NaN</td>\n",
       "      <td>Fitness</td>\n",
       "      <td>20139</td>\n",
       "      <td>fitness</td>\n",
       "      <td>0</td>\n",
       "    </tr>\n",
       "    <tr>\n",
       "      <th>128343</th>\n",
       "      <td>Fitness</td>\n",
       "      <td>NaN</td>\n",
       "      <td>Fitness</td>\n",
       "      <td>20139</td>\n",
       "      <td>fitness</td>\n",
       "      <td>0</td>\n",
       "    </tr>\n",
       "    <tr>\n",
       "      <th>128344</th>\n",
       "      <td>Fitness</td>\n",
       "      <td>NaN</td>\n",
       "      <td>Fitness</td>\n",
       "      <td>20139</td>\n",
       "      <td>fitness</td>\n",
       "      <td>0</td>\n",
       "    </tr>\n",
       "    <tr>\n",
       "      <th>128345</th>\n",
       "      <td>Fitness</td>\n",
       "      <td>NaN</td>\n",
       "      <td>Fitness</td>\n",
       "      <td>20139</td>\n",
       "      <td>fitness</td>\n",
       "      <td>0</td>\n",
       "    </tr>\n",
       "    <tr>\n",
       "      <th>128346</th>\n",
       "      <td>Fitness</td>\n",
       "      <td>NaN</td>\n",
       "      <td>Fitness</td>\n",
       "      <td>20139</td>\n",
       "      <td>fitness</td>\n",
       "      <td>0</td>\n",
       "    </tr>\n",
       "    <tr>\n",
       "      <th>128348</th>\n",
       "      <td>Fitness</td>\n",
       "      <td>NaN</td>\n",
       "      <td>Fitness</td>\n",
       "      <td>20139</td>\n",
       "      <td>fitness</td>\n",
       "      <td>0</td>\n",
       "    </tr>\n",
       "    <tr>\n",
       "      <th>128349</th>\n",
       "      <td>Fitness</td>\n",
       "      <td>NaN</td>\n",
       "      <td>Fitness</td>\n",
       "      <td>20139</td>\n",
       "      <td>fitness</td>\n",
       "      <td>0</td>\n",
       "    </tr>\n",
       "    <tr>\n",
       "      <th>128350</th>\n",
       "      <td>Fitness</td>\n",
       "      <td>NaN</td>\n",
       "      <td>Fitness</td>\n",
       "      <td>20139</td>\n",
       "      <td>fitness</td>\n",
       "      <td>0</td>\n",
       "    </tr>\n",
       "    <tr>\n",
       "      <th>128351</th>\n",
       "      <td>Fitness</td>\n",
       "      <td>NaN</td>\n",
       "      <td>Fitness</td>\n",
       "      <td>20139</td>\n",
       "      <td>fitness</td>\n",
       "      <td>0</td>\n",
       "    </tr>\n",
       "    <tr>\n",
       "      <th>128352</th>\n",
       "      <td>Fitness</td>\n",
       "      <td>NaN</td>\n",
       "      <td>Fitness</td>\n",
       "      <td>20139</td>\n",
       "      <td>fitness</td>\n",
       "      <td>0</td>\n",
       "    </tr>\n",
       "  </tbody>\n",
       "</table>\n",
       "</div>"
      ],
      "text/plain": [
       "       subreddit body    topic  count y_career_category  coded_category\n",
       "42907     gaming  NaN   gaming  40804             games               1\n",
       "128337   Fitness  NaN  Fitness  20139           fitness               0\n",
       "128338   Fitness  NaN  Fitness  20139           fitness               0\n",
       "128339   Fitness  NaN  Fitness  20139           fitness               0\n",
       "128340   Fitness  NaN  Fitness  20139           fitness               0\n",
       "128341   Fitness  NaN  Fitness  20139           fitness               0\n",
       "128342   Fitness  NaN  Fitness  20139           fitness               0\n",
       "128343   Fitness  NaN  Fitness  20139           fitness               0\n",
       "128344   Fitness  NaN  Fitness  20139           fitness               0\n",
       "128345   Fitness  NaN  Fitness  20139           fitness               0\n",
       "128346   Fitness  NaN  Fitness  20139           fitness               0\n",
       "128348   Fitness  NaN  Fitness  20139           fitness               0\n",
       "128349   Fitness  NaN  Fitness  20139           fitness               0\n",
       "128350   Fitness  NaN  Fitness  20139           fitness               0\n",
       "128351   Fitness  NaN  Fitness  20139           fitness               0\n",
       "128352   Fitness  NaN  Fitness  20139           fitness               0"
      ]
     },
     "execution_count": 8,
     "metadata": {},
     "output_type": "execute_result"
    }
   ],
   "source": [
    "# Looking for nulls in the dataframe\n",
    "text_df[text_df.isna().any(axis=1)]"
   ]
  },
  {
   "cell_type": "code",
   "execution_count": 9,
   "metadata": {},
   "outputs": [
    {
     "name": "stderr",
     "output_type": "stream",
     "text": [
      "<ipython-input-9-2371d2bbf123>:2: SettingWithCopyWarning: \n",
      "A value is trying to be set on a copy of a slice from a DataFrame\n",
      "\n",
      "See the caveats in the documentation: https://pandas.pydata.org/pandas-docs/stable/user_guide/indexing.html#returning-a-view-versus-a-copy\n",
      "  text_df.dropna(inplace=True)\n"
     ]
    }
   ],
   "source": [
    "# dropping nulls and resettng index so the index is consistent\n",
    "text_df.dropna(inplace=True)\n",
    "text_df.reset_index(inplace=True, drop=True)"
   ]
  },
  {
   "cell_type": "code",
   "execution_count": 13,
   "metadata": {},
   "outputs": [
    {
     "data": {
      "text/plain": [
       "subreddit            0\n",
       "body                 0\n",
       "topic                0\n",
       "count                0\n",
       "y_career_category    0\n",
       "coded_category       0\n",
       "dtype: int64"
      ]
     },
     "execution_count": 13,
     "metadata": {},
     "output_type": "execute_result"
    }
   ],
   "source": [
    "# checking if all nulls got deleted or not\n",
    "text_df.isnull().sum()\n",
    "# text_df[text_df.isna().any(axis=1)]"
   ]
  },
  {
   "cell_type": "code",
   "execution_count": 11,
   "metadata": {},
   "outputs": [
    {
     "data": {
      "text/plain": [
       "(265290, 6)"
      ]
     },
     "execution_count": 11,
     "metadata": {},
     "output_type": "execute_result"
    }
   ],
   "source": [
    "text_df.shape"
   ]
  },
  {
   "cell_type": "code",
   "execution_count": 19,
   "metadata": {},
   "outputs": [
    {
     "data": {
      "text/plain": [
       "0                      More Olympics means heavier babies\\n\n",
       "1                        china does seem to like their smog\n",
       "2         http://health-equity.pitt.edu/2407/\\n\\nhttp://...\n",
       "3         [Full-text](http://www.sciencemag.org.sci-hub....\n",
       "4         I wish you understood the science of climate c...\n",
       "                                ...                        \n",
       "265285    Windows 8 uses less RAM than Windows 7 I stron...\n",
       "265286    If you suspect you are limited by your CPU, yo...\n",
       "265287    it is a fully modular power supply for the pri...\n",
       "265288    depends on whether or not your board is dual o...\n",
       "265289    My case is sitting on the floor in a apartment...\n",
       "Name: body, Length: 265290, dtype: object"
      ]
     },
     "execution_count": 19,
     "metadata": {},
     "output_type": "execute_result"
    }
   ],
   "source": [
    "text_df['body']"
   ]
  },
  {
   "cell_type": "code",
   "execution_count": 20,
   "metadata": {},
   "outputs": [],
   "source": [
    "# saving the db as a csv file\n",
    "text_df.to_csv('text_df.csv')"
   ]
  },
  {
   "cell_type": "markdown",
   "metadata": {},
   "source": [
    "Data has been labelled and its size has been reduced. The nulls, duplicates, flagged comments, deleted comments have been removed. \n",
    "\n",
    "Cleaning for NLP will be performed in next notebook. This will include lowercase, removing punctuations, replacing websites, and anyother relavent cleaning."
   ]
  },
  {
   "cell_type": "code",
   "execution_count": null,
   "metadata": {},
   "outputs": [],
   "source": []
  }
 ],
 "metadata": {
  "kernelspec": {
   "display_name": "Python 3",
   "language": "python",
   "name": "python3"
  },
  "language_info": {
   "codemirror_mode": {
    "name": "ipython",
    "version": 3
   },
   "file_extension": ".py",
   "mimetype": "text/x-python",
   "name": "python",
   "nbconvert_exporter": "python",
   "pygments_lexer": "ipython3",
   "version": "3.8.3"
  }
 },
 "nbformat": 4,
 "nbformat_minor": 4
}
